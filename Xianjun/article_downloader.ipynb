{
 "cells": [
  {
   "cell_type": "markdown",
   "metadata": {},
   "source": [
    "reference: https://github.com/olivettigroup/article-downloader\n",
    "\n",
    "\n",
    "pip install articledownloader\n",
    "\n",
    "\n",
    "pip install Autologging"
   ]
  },
  {
   "cell_type": "markdown",
   "metadata": {},
   "source": [
    "The most important notice: the my_els_key, els-doi and 'elsevier' has to be  from the same journal!\n",
    "\n",
    "Which means you can not download papers from nature using 'elsevier' and my_els_key"
   ]
  },
  {
   "cell_type": "code",
   "execution_count": 69,
   "metadata": {},
   "outputs": [],
   "source": [
    "from articledownloader.articledownloader import ArticleDownloader"
   ]
  },
  {
   "cell_type": "code",
   "execution_count": 70,
   "metadata": {},
   "outputs": [],
   "source": [
    "els_doi = '10.1016/j.nantod.2020.100961'\n",
    "nature_doi = '10.1038/s41586-019-1335-8'\n",
    "\n",
    "my_els_key = '01a997fd9c5cbff56a7fe334b3bf54ed'\n",
    "nature_key = '619656454a9340ca753805acfec73dc2'"
   ]
  },
  {
   "cell_type": "code",
   "execution_count": 71,
   "metadata": {},
   "outputs": [],
   "source": [
    "downloader = ArticleDownloader(my_els_key)"
   ]
  },
  {
   "cell_type": "code",
   "execution_count": 72,
   "metadata": {},
   "outputs": [],
   "source": [
    "my_file = open('/Users/xianjunyang/Downloads/something.pdf', 'wb')  # Need to use 'wb' on Windows"
   ]
  },
  {
   "cell_type": "code",
   "execution_count": 73,
   "metadata": {},
   "outputs": [
    {
     "data": {
      "text/plain": [
       "True"
      ]
     },
     "execution_count": 73,
     "metadata": {},
     "output_type": "execute_result"
    }
   ],
   "source": [
    "downloader.get_pdf_from_doi(els_doi, my_file, 'elsevier')"
   ]
  }
 ],
 "metadata": {
  "kernelspec": {
   "display_name": "Python 3",
   "language": "python",
   "name": "python3"
  },
  "language_info": {
   "codemirror_mode": {
    "name": "ipython",
    "version": 3
   },
   "file_extension": ".py",
   "mimetype": "text/x-python",
   "name": "python",
   "nbconvert_exporter": "python",
   "pygments_lexer": "ipython3",
   "version": "3.8.3"
  }
 },
 "nbformat": 4,
 "nbformat_minor": 4
}
