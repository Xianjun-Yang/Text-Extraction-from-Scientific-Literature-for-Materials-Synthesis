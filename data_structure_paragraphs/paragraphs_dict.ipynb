{
 "cells": [
  {
   "cell_type": "code",
   "execution_count": 264,
   "metadata": {},
   "outputs": [],
   "source": [
    "import numpy as np"
   ]
  },
  {
   "cell_type": "code",
   "execution_count": 265,
   "metadata": {},
   "outputs": [],
   "source": [
    "# Testing with a dummy paragraph\n",
    "\n",
    "paragraph = \"DScribe is a software package for machine learning that provides popular feature transformations \\\n",
    "(“descriptors”) for atomistic materials simulations. DScribe accelerates the application of machine learning \\\n",
    "for atomistic property prediction by providing user-friendly, off-the-shelf descriptor implementations. The \\\n",
    "package currently contains implementations for Coulomb matrix, Ewald sum matrix, sine matrix, Many-body Tensor\\\n",
    "Representation (MBTR), Atom-centered Symmetry Function (ACSF) and Smooth Overlap of Atomic Positions (SOAP).\\\n",
    "Usage of the package is illustrated for two different applications: formation energy prediction for solids and \\\n",
    "ionic charge prediction for atoms in organic molecules. The package is freely available under the open-source \\\n",
    "Apache License 2.0.\"\n"
   ]
  },
  {
   "cell_type": "code",
   "execution_count": 266,
   "metadata": {},
   "outputs": [],
   "source": [
    "# Example:\n",
    "\n",
    "# Paper 1 has doi \"10.1016/j.cpc.2019.106949\" and 3 paragraphs\n",
    "doi_list = np.array([\"10.1016/j.cpc.2019.106949\"])\n",
    "\n",
    "# Each paper has its own list of paragraphs (obtained by transforming the pdf into raw text and\n",
    "# splitting the raw text into paragraphs)\n",
    "# Here, let's just use the dummy paragraph (3x) as an example\n",
    "paragraph_list = np.array([paragraph,paragraph,paragraph])\n",
    "key_list = np.array([1,0,1])\n"
   ]
  },
  {
   "cell_type": "code",
   "execution_count": 267,
   "metadata": {},
   "outputs": [],
   "source": [
    "# Initialize dictionary\n",
    "paragraphs_dict = {}\n",
    "\n",
    "\n",
    "# Suppose these are the paragraphs: par1,par2,par3\n",
    "# Just making them different by adding a word at the end. This step won't be necessary as we expect\n",
    "# that the paragraphs will be different\n",
    "\n",
    "# Notice: I am using Numpy arrays here as they are faster than Python lists\n",
    "extra_words = [\"alpha\",\"beta\",\"gamma\"]\n",
    "paragraph_list = [paragraph + i for i in extra_words]\n",
    "paragraph_list = np.array(paragraph_list)\n",
    "\n",
    "keys = np.array([0,1,1])\n",
    "doi_list = np.array([\"10.1016/j.cpc.2019.106949\"])\n",
    "par_key = (paragraph_list,keys)\n"
   ]
  },
  {
   "cell_type": "code",
   "execution_count": 268,
   "metadata": {},
   "outputs": [
    {
     "name": "stdout",
     "output_type": "stream",
     "text": [
      "['DScribe is a software package for machine learning that provides popular feature transformations (“descriptors”) for atomistic materials simulations. DScribe accelerates the application of machine learning for atomistic property prediction by providing user-friendly, off-the-shelf descriptor implementations. The package currently contains implementations for Coulomb matrix, Ewald sum matrix, sine matrix, Many-body TensorRepresentation (MBTR), Atom-centered Symmetry Function (ACSF) and Smooth Overlap of Atomic Positions (SOAP).Usage of the package is illustrated for two different applications: formation energy prediction for solids and ionic charge prediction for atoms in organic molecules. The package is freely available under the open-source Apache License 2.0.alpha'\n",
      " 'DScribe is a software package for machine learning that provides popular feature transformations (“descriptors”) for atomistic materials simulations. DScribe accelerates the application of machine learning for atomistic property prediction by providing user-friendly, off-the-shelf descriptor implementations. The package currently contains implementations for Coulomb matrix, Ewald sum matrix, sine matrix, Many-body TensorRepresentation (MBTR), Atom-centered Symmetry Function (ACSF) and Smooth Overlap of Atomic Positions (SOAP).Usage of the package is illustrated for two different applications: formation energy prediction for solids and ionic charge prediction for atoms in organic molecules. The package is freely available under the open-source Apache License 2.0.beta'\n",
      " 'DScribe is a software package for machine learning that provides popular feature transformations (“descriptors”) for atomistic materials simulations. DScribe accelerates the application of machine learning for atomistic property prediction by providing user-friendly, off-the-shelf descriptor implementations. The package currently contains implementations for Coulomb matrix, Ewald sum matrix, sine matrix, Many-body TensorRepresentation (MBTR), Atom-centered Symmetry Function (ACSF) and Smooth Overlap of Atomic Positions (SOAP).Usage of the package is illustrated for two different applications: formation energy prediction for solids and ionic charge prediction for atoms in organic molecules. The package is freely available under the open-source Apache License 2.0.gamma']\n",
      "[0 1 1]\n"
     ]
    }
   ],
   "source": [
    "i,j = par_key\n",
    "print(i)\n",
    "print(j)"
   ]
  },
  {
   "cell_type": "code",
   "execution_count": 269,
   "metadata": {},
   "outputs": [],
   "source": [
    "# Loop over DOIs\n",
    "for doi in doi_list:\n",
    "    \n",
    "    paragraphs_dict[doi] = {}\n",
    "    \n",
    "    # Loop over paragraphs of a given paper\n",
    "    for i,j in zip(paragraph_list,keys):\n",
    "        paragraphs_dict[doi][i] = j\n",
    "\n",
    "    # We can also use array comprehension instead\n",
    "    #paragraphs_dict[doi] = dict( [ (i,j) for i in paragraph_list for j in keys] )"
   ]
  },
  {
   "cell_type": "code",
   "execution_count": 270,
   "metadata": {},
   "outputs": [
    {
     "name": "stdout",
     "output_type": "stream",
     "text": [
      "{'10.1016/j.cpc.2019.106949': {'DScribe is a software package for machine learning that provides popular feature transformations (“descriptors”) for atomistic materials simulations. DScribe accelerates the application of machine learning for atomistic property prediction by providing user-friendly, off-the-shelf descriptor implementations. The package currently contains implementations for Coulomb matrix, Ewald sum matrix, sine matrix, Many-body TensorRepresentation (MBTR), Atom-centered Symmetry Function (ACSF) and Smooth Overlap of Atomic Positions (SOAP).Usage of the package is illustrated for two different applications: formation energy prediction for solids and ionic charge prediction for atoms in organic molecules. The package is freely available under the open-source Apache License 2.0.alpha': 0, 'DScribe is a software package for machine learning that provides popular feature transformations (“descriptors”) for atomistic materials simulations. DScribe accelerates the application of machine learning for atomistic property prediction by providing user-friendly, off-the-shelf descriptor implementations. The package currently contains implementations for Coulomb matrix, Ewald sum matrix, sine matrix, Many-body TensorRepresentation (MBTR), Atom-centered Symmetry Function (ACSF) and Smooth Overlap of Atomic Positions (SOAP).Usage of the package is illustrated for two different applications: formation energy prediction for solids and ionic charge prediction for atoms in organic molecules. The package is freely available under the open-source Apache License 2.0.beta': 1, 'DScribe is a software package for machine learning that provides popular feature transformations (“descriptors”) for atomistic materials simulations. DScribe accelerates the application of machine learning for atomistic property prediction by providing user-friendly, off-the-shelf descriptor implementations. The package currently contains implementations for Coulomb matrix, Ewald sum matrix, sine matrix, Many-body TensorRepresentation (MBTR), Atom-centered Symmetry Function (ACSF) and Smooth Overlap of Atomic Positions (SOAP).Usage of the package is illustrated for two different applications: formation energy prediction for solids and ionic charge prediction for atoms in organic molecules. The package is freely available under the open-source Apache License 2.0.gamma': 1}}\n"
     ]
    }
   ],
   "source": [
    "print(paragraphs_dict)"
   ]
  },
  {
   "cell_type": "code",
   "execution_count": null,
   "metadata": {},
   "outputs": [],
   "source": []
  }
 ],
 "metadata": {
  "kernelspec": {
   "display_name": "Python 3",
   "language": "python",
   "name": "python3"
  },
  "language_info": {
   "codemirror_mode": {
    "name": "ipython",
    "version": 3
   },
   "file_extension": ".py",
   "mimetype": "text/x-python",
   "name": "python",
   "nbconvert_exporter": "python",
   "pygments_lexer": "ipython3",
   "version": "3.7.7"
  }
 },
 "nbformat": 4,
 "nbformat_minor": 4
}
