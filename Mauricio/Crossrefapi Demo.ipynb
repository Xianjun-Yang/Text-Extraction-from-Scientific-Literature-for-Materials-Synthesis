{
 "cells": [
  {
   "cell_type": "markdown",
   "metadata": {},
   "source": [
    "#  Crossrefapi Demonstration\n",
    "\n",
    "Link to documentiation: https://github.com/fabiobatalha/crossrefapi"
   ]
  },
  {
   "cell_type": "markdown",
   "metadata": {},
   "source": [
    "### Start with importation of Works()"
   ]
  },
  {
   "cell_type": "code",
   "execution_count": 2,
   "metadata": {},
   "outputs": [],
   "source": [
    "from crossref.restful import Works\n",
    "works = Works()"
   ]
  },
  {
   "cell_type": "markdown",
   "metadata": {},
   "source": [
    "### Processing\n",
    "DOI: 10.20900/qmr\n",
    "Article on Quantum Materials will be used for examples"
   ]
  },
  {
   "cell_type": "code",
   "execution_count": 3,
   "metadata": {},
   "outputs": [
    {
     "data": {
      "text/plain": [
       "{'DOI': '10.20900/qmr', 'agency': {'id': 'crossref', 'label': 'Crossref'}}"
      ]
     },
     "execution_count": 3,
     "metadata": {},
     "output_type": "execute_result"
    }
   ],
   "source": [
    "#checking agency DOI is registered to\n",
    "works.agency('10.20900/qmr')"
   ]
  },
  {
   "cell_type": "code",
   "execution_count": 5,
   "metadata": {},
   "outputs": [
    {
     "data": {
      "text/plain": [
       "{'indexed': {'date-parts': [[2020, 6, 9]],\n",
       "  'date-time': '2020-06-09T16:28:57Z',\n",
       "  'timestamp': 1591720137341},\n",
       " 'reference-count': 0,\n",
       " 'publisher': 'Hapres',\n",
       " 'content-domain': {'domain': [], 'crossmark-restriction': False},\n",
       " 'short-container-title': [],\n",
       " 'DOI': '10.20900/qmr',\n",
       " 'type': 'journal',\n",
       " 'created': {'date-parts': [[2020, 4, 29]],\n",
       "  'date-time': '2020-04-29T14:56:01Z',\n",
       "  'timestamp': 1588172161000},\n",
       " 'source': 'Crossref',\n",
       " 'is-referenced-by-count': 0,\n",
       " 'title': ['Quantum Materials Research'],\n",
       " 'prefix': '10.20900',\n",
       " 'member': '8586',\n",
       " 'container-title': [],\n",
       " 'original-title': [],\n",
       " 'deposited': {'date-parts': [[2020, 4, 29]],\n",
       "  'date-time': '2020-04-29T14:56:01Z',\n",
       "  'timestamp': 1588172161000},\n",
       " 'score': 1.0,\n",
       " 'subtitle': [],\n",
       " 'short-title': ['Quantum Mater Res'],\n",
       " 'issued': {'date-parts': [[None]]},\n",
       " 'references-count': 0,\n",
       " 'URL': 'http://dx.doi.org/10.20900/qmr',\n",
       " 'relation': {}}"
      ]
     },
     "execution_count": 5,
     "metadata": {},
     "output_type": "execute_result"
    }
   ],
   "source": [
    "#information which can be gathered from a DOI\n",
    "works.doi('10.20900/qmr')"
   ]
  },
  {
   "cell_type": "markdown",
   "metadata": {},
   "source": [
    "### Using query function\n",
    "Query function is simple to use with a call to query and paramaters of search values.\n",
    "\n",
    "Using these search values, several outputs can be obtained"
   ]
  },
  {
   "cell_type": "code",
   "execution_count": 9,
   "metadata": {},
   "outputs": [
    {
     "data": {
      "text/plain": [
       "2876340"
      ]
     },
     "execution_count": 9,
     "metadata": {},
     "output_type": "execute_result"
    }
   ],
   "source": [
    "#count function returns amount of search results found\n",
    "works.query('quantum materials').count()"
   ]
  },
  {
   "cell_type": "code",
   "execution_count": 10,
   "metadata": {},
   "outputs": [
    {
     "data": {
      "text/plain": [
       "'https://api.crossref.org/works?query=quantum+materials'"
      ]
     },
     "execution_count": 10,
     "metadata": {},
     "output_type": "execute_result"
    }
   ],
   "source": [
    "#url function returns url being used to search\n",
    "works.query('quantum materials').url"
   ]
  },
  {
   "cell_type": "markdown",
   "metadata": {},
   "source": [
    "Since the amount of articles returned can be extremely large, query time can be extremely long. This can be aided if you are only looking for certain attributes of articles through the select function"
   ]
  },
  {
   "cell_type": "code",
   "execution_count": 7,
   "metadata": {},
   "outputs": [
    {
     "name": "stdout",
     "output_type": "stream",
     "text": [
      "{'DOI': '10.1002/jbm.b.30008', 'URL': 'http://dx.doi.org/10.1002/jbm.b.30008', 'title': ['The effect of cesium-containing leucite additions on the thermal and mechanical properties of two leucite-based porcelains']}\n",
      "{'DOI': '10.1002/jbm.b.30020', 'URL': 'http://dx.doi.org/10.1002/jbm.b.30020', 'title': ['Release of anthracyclines adsorbed on copper-treated hydroxylapatites']}\n",
      "{'DOI': '10.1002/jbm.b.30003', 'URL': 'http://dx.doi.org/10.1002/jbm.b.30003', 'title': ['Alpha-crystallin-incorporated collagen matrices as an aid for dermal wound healing']}\n",
      "{'DOI': '10.1002/jbm.b.10073', 'URL': 'http://dx.doi.org/10.1002/jbm.b.10073', 'title': ['Optimization of bone-tissue engineering in goats']}\n",
      "{'DOI': '10.1002/jbm.b.20033', 'URL': 'http://dx.doi.org/10.1002/jbm.b.20033', 'title': ['Stripe wear rates in alumina THR?Comparison of microseparation simulator study with retrieved implants']}\n",
      "{'DOI': '10.2307/3179688', 'URL': 'http://dx.doi.org/10.2307/3179688', 'title': ['Colors and Other Materials of Historic Wallpaper']}\n",
      "{'DOI': '10.2307/3179502', 'URL': 'http://dx.doi.org/10.2307/3179502', 'title': ['Josef Albers: His Paintings, Their Materials, Technique, and Treatment']}\n",
      "{'DOI': '10.2307/3179579', 'URL': 'http://dx.doi.org/10.2307/3179579', 'title': ['The Development of a Research Approach to the Scientific Study of Cellulosic and Ligneous Materials']}\n",
      "{'DOI': '10.2307/3179484', 'URL': 'http://dx.doi.org/10.2307/3179484', 'title': ['A Comparison of Selected UV Filtering Materials for the Reduction of Fading']}\n",
      "{'DOI': '10.2307/3179526', 'URL': 'http://dx.doi.org/10.2307/3179526', 'title': ['A Study of the Materials Used by Medieval Persian Painters']}\n",
      "{'DOI': '10.2307/3179614', 'URL': 'http://dx.doi.org/10.2307/3179614', 'title': [\"History, Care, and Handling of America's Spacesuits: Problems in Modern Materials\"]}\n",
      "{'DOI': '10.2307/3179653', 'URL': 'http://dx.doi.org/10.2307/3179653', 'title': ['Protection of Archival Materials from Pollutants: Diffusion of Sulfur Dioxide through Boxboard']}\n",
      "{'DOI': '10.2307/3179546', 'URL': 'http://dx.doi.org/10.2307/3179546', 'title': ['The Harvard Glass Flowers: Materials and Techniques']}\n",
      "{'DOI': '10.2307/3179911', 'URL': 'http://dx.doi.org/10.2307/3179911', 'title': ['Obsolete Fill Materials Found on Ceramics']}\n",
      "{'DOI': '10.2307/3179910', 'URL': 'http://dx.doi.org/10.2307/3179910', 'title': ['Reversible Fills for Transparent and Translucent Materials']}\n",
      "{'DOI': '10.2307/3179915', 'URL': 'http://dx.doi.org/10.2307/3179915', 'title': ['Methods and Materials for Filling Losses on Lacquer Objects']}\n",
      "{'DOI': '10.2307/3179909', 'URL': 'http://dx.doi.org/10.2307/3179909', 'title': ['Commercial Vinyl and Acrylic Fill Materials']}\n",
      "{'DOI': '10.2307/3179916', 'URL': 'http://dx.doi.org/10.2307/3179916', 'title': ['Synthetic Fill Materials for Skin, Leather, and Furs']}\n",
      "{'DOI': '10.2307/3179836', 'URL': 'http://dx.doi.org/10.2307/3179836', 'title': [\"Bierstadt's Late Paintings: Methods, Materials, and Madness\"]}\n",
      "{'DOI': '10.2307/3179835', 'URL': 'http://dx.doi.org/10.2307/3179835', 'title': [\"The American Artist's Tools and Materials for On-Site Oil Sketching\"]}\n",
      "{'DOI': '10.2307/3179967', 'URL': 'http://dx.doi.org/10.2307/3179967', 'title': ['Aseptic Technique: A Goal to Strive for in Collection Recovery of Moldy Archival Materials and Artifacts']}\n",
      "{'DOI': '10.2307/3179791', 'URL': 'http://dx.doi.org/10.2307/3179791', 'title': ['The Methods and Materials of Martin Johnson Heade']}\n",
      "{'DOI': '10.2307/4129648', 'URL': 'http://dx.doi.org/10.2307/4129648', 'title': ['Using a Portable Spectrometer to Source Archaeological Materials and to Detect Restorations in Museum Objects']}\n",
      "{'DOI': '10.5228/kstp.2011.20.1.11', 'URL': 'http://dx.doi.org/10.5228/kstp.2011.20.1.11', 'title': ['An Experimental Study on the Replication Ratio of Micro Patterns of 7 inch LGP using Injection/Compression and RHCM']}\n",
      "{'DOI': '10.5228/kstp.2011.20.1.5', 'URL': 'http://dx.doi.org/10.5228/kstp.2011.20.1.5', 'title': ['Numerical Prediction of Process Window for Injection-Compression Molding of 7-inch LGP']}\n",
      "{'DOI': '10.5228/kstp.2011.20.1.17', 'URL': 'http://dx.doi.org/10.5228/kstp.2011.20.1.17', 'title': ['A Study on the Micro Pattern Fabrication of Lab-on-a-chip Mold Master using Micro EDM']}\n",
      "{'DOI': '10.5228/kstp.2011.20.1.23', 'URL': 'http://dx.doi.org/10.5228/kstp.2011.20.1.23', 'title': ['A Study on the Fabrication of Nano Pattern using a Nickel Stamper Replicated from Anodic Aluminum Oxide']}\n",
      "{'DOI': '10.5228/kstp.2011.20.1.29', 'URL': 'http://dx.doi.org/10.5228/kstp.2011.20.1.29', 'title': ['Investigation into Heat Transfer Characteristics of an Injection Mold by Considering Thermal Contact Resistance']}\n",
      "{'DOI': '10.5228/kstp.2011.20.1.36', 'URL': 'http://dx.doi.org/10.5228/kstp.2011.20.1.36', 'title': ['Thickness Distribution of Hemispherical Cup in Meso-Scale Deep Drawing Process']}\n",
      "{'DOI': '10.5228/kstp.2011.20.1.42', 'URL': 'http://dx.doi.org/10.5228/kstp.2011.20.1.42', 'title': ['Prediction of Wrinkling in Micro R2R Forming and Its Improvement']}\n",
      "{'DOI': '10.5228/kstp.2011.20.1.48', 'URL': 'http://dx.doi.org/10.5228/kstp.2011.20.1.48', 'title': ['Design of Cold Heading Process of a Screw for Storage Parts']}\n",
      "{'DOI': '10.5228/kstp.2011.20.1.64', 'URL': 'http://dx.doi.org/10.5228/kstp.2011.20.1.64', 'title': ['In-mold Assembly of Polymer and Surface-machined Sheet Metal by Insert Injection Molding']}\n",
      "{'DOI': '10.5228/kstp.2011.20.1.54', 'URL': 'http://dx.doi.org/10.5228/kstp.2011.20.1.54', 'title': ['Birefringent Analysis of Plastic Lens Injection Molding for Mobile Phone Camera']}\n",
      "{'DOI': '10.5228/kstp.2011.20.1.73', 'URL': 'http://dx.doi.org/10.5228/kstp.2011.20.1.73', 'title': ['Study on the Pressure Measurement at Parting Surface to Prevent Flashing in Injection Molds']}\n",
      "{'DOI': '10.5228/kstp.2011.20.1.60', 'URL': 'http://dx.doi.org/10.5228/kstp.2011.20.1.60', 'title': ['A Study on the Fabrication Method of Micro-Mold using 2.2inch LGP by the SCS Micro-Lens Pattern']}\n",
      "{'DOI': '10.1252/kakoronbunshu.14.655', 'URL': 'http://dx.doi.org/10.1252/kakoronbunshu.14.655', 'title': ['Deposition of aerosol particles on a surface composed of different materials.']}\n",
      "{'DOI': '10.1252/kakoronbunshu.14.692', 'URL': 'http://dx.doi.org/10.1252/kakoronbunshu.14.692', 'title': ['Crystallization characteristics of flon gas hydrates used as cool storage materials.']}\n",
      "{'DOI': '10.1252/kakoronbunshu.12.401', 'URL': 'http://dx.doi.org/10.1252/kakoronbunshu.12.401', 'title': ['Analysis of unsteady heat conduction in laminated materials and appropriateness of its homogeneous-material approximation.']}\n",
      "{'DOI': '10.1121/1.3588855', 'URL': 'http://dx.doi.org/10.1121/1.3588855', 'title': ['Acoustic resonators, quantum mechanics, and gas metrology.']}\n",
      "{'DOI': '10.1007/s10854-016-5913-3', 'URL': 'http://dx.doi.org/10.1007/s10854-016-5913-3', 'title': ['The study of remote monitoring and real-time signal processing of the pulse generator for thin film coating']}\n",
      "{'DOI': '10.19173/irrodl.v12i5.953', 'URL': 'http://dx.doi.org/10.19173/irrodl.v12i5.953', 'title': ['Assessment of learner acceptance and satisfaction with video-based instructional materials for teaching practical skills at a distance']}\n",
      "{'DOI': '10.19173/irrodl.v13i2.930', 'URL': 'http://dx.doi.org/10.19173/irrodl.v13i2.930', 'title': ['Assessment of challenges in developing self-instructional course materials at the National Open University of Nigeria']}\n",
      "{'DOI': '10.3390/atmos6101578', 'URL': 'http://dx.doi.org/10.3390/atmos6101578', 'title': ['Radiation Balance of Urban Materials and Their Thermal Impact in Semi-Desert Region: Mexicali, México Study Case']}\n",
      "{'DOI': '10.5604/17348412.1230099', 'URL': 'http://dx.doi.org/10.5604/17348412.1230099', 'title': ['The dependence of the functional properties of the nanocomposite with matrix made of Epidian 100 resin due to size of reinforcement made of Fe[sub]67[/sub]Co[sub]10[/sub]Ni[sub]1[/sub]W[sub]2[/sub]B[sub]20[/sub] alloy']}\n",
      "{'DOI': '10.2118/178774-ms', 'URL': 'http://dx.doi.org/10.2118/178774-ms', 'title': ['Size Degradation Studies of Lost Circulation Materials in a Flow Loop']}\n",
      "{'DOI': '10.1007/s11629-016-4051-y', 'URL': 'http://dx.doi.org/10.1007/s11629-016-4051-y', 'title': ['Discrete numerical modeling of granular materials considering crushability']}\n",
      "{'DOI': '10.1007/978-3-319-28275-6_59-2', 'URL': 'http://dx.doi.org/10.1007/978-3-319-28275-6_59-2', 'title': ['Multiple-Quantum NMR Studies of Anisotropic Polymer Chain Dynamics']}\n",
      "{'DOI': '10.1007/978-981-10-2957-8_4', 'URL': 'http://dx.doi.org/10.1007/978-981-10-2957-8_4', 'title': ['Photofunctional Rare Earth Hybrid Materials Based on Functionalized Microporous Zeolites']}\n",
      "{'DOI': '10.7554/elife.26117.093', 'URL': 'http://dx.doi.org/10.7554/elife.26117.093', 'title': ['Appendix 8—figure 1. Microsaccadic sampling-hypothesis predicts R1-R6 output dynamics to fast moving bright dots.']}\n",
      "{'DOI': '10.7554/elife.26117.100', 'URL': 'http://dx.doi.org/10.7554/elife.26117.100', 'title': ['Appendix 8—figure 7. Refractory sampling enhances neural resolution for different aspects of hyperacute images.']}\n",
      "{'DOI': '10.1016/j.cap.2011.07.003', 'URL': 'http://dx.doi.org/10.1016/j.cap.2011.07.003', 'title': ['The proceeding of the 10th Asia-Pacific Conference on Plasma Science and Technology (APCPST) and the 23rd Symposium on Plasma Science for Materials (SPSM)']}\n",
      "{'DOI': '10.1134/s106378261603009x', 'URL': 'http://dx.doi.org/10.1134/s106378261603009x', 'title': ['Effect of Phonon Drag on the Thermopower in a Parabolic Quantum Well']}\n",
      "{'DOI': '10.1134/s1063779616020052', 'URL': 'http://dx.doi.org/10.1134/s1063779616020052', 'title': ['An algebraic PT-symmetric quantum theory with a maximal mass']}\n",
      "{'DOI': '10.1109/tit.2016.2563438', 'URL': 'http://dx.doi.org/10.1109/tit.2016.2563438', 'title': ['Corrections to “The Entropy Power Inequality for Quantum Systems” [Mar 14 1536-1548]']}\n",
      "{'DOI': '10.1109/jqe.2016.2563779', 'URL': 'http://dx.doi.org/10.1109/jqe.2016.2563779', 'title': ['Optical High-Order Sideband Comb Generation in a Photonic Molecule Optomechanical System']}\n",
      "{'DOI': '10.1002/9781119307563.index', 'URL': 'http://dx.doi.org/10.1002/9781119307563.index', 'title': ['Index']}\n",
      "{'DOI': '10.1002/9781119307563.ch4', 'URL': 'http://dx.doi.org/10.1002/9781119307563.ch4', 'title': ['Reconstruction of Heterogeneous Materials Using Two-Point Correlation Functions']}\n",
      "{'DOI': '10.1002/9781119307563.app2', 'URL': 'http://dx.doi.org/10.1002/9781119307563.app2', 'title': ['Verification of the Boundary Conditions for the Approximated Four-Point Probability Function']}\n",
      "{'DOI': '10.1002/9781119307563.ch6', 'URL': 'http://dx.doi.org/10.1002/9781119307563.ch6', 'title': ['Homogenization of Reconstructed RVE']}\n",
      "{'DOI': '10.1002/9781119307563.biblio', 'URL': 'http://dx.doi.org/10.1002/9781119307563.biblio', 'title': ['Bibliography']}\n",
      "{'DOI': '10.1002/9781119318613.ch1', 'URL': 'http://dx.doi.org/10.1002/9781119318613.ch1', 'title': ['Introduction to European COREPASOL Project on Harmonizing Cold Recycling Pavement Techniques']}\n",
      "{'DOI': '10.1002/9781119318613.ch10', 'URL': 'http://dx.doi.org/10.1002/9781119318613.ch10', 'title': ['A New Asset Management Approach for Inland Waterways']}\n",
      "{'DOI': '10.1002/9781119318613.ch5', 'URL': 'http://dx.doi.org/10.1002/9781119318613.ch5', 'title': ['Effect of Using of Reclaimed Asphalt and/or Lower Temperature Asphalt on the Availability of the Road Network']}\n",
      "{'DOI': '10.1002/9781119318613.ch14', 'URL': 'http://dx.doi.org/10.1002/9781119318613.ch14', 'title': ['Adaptation of the Road Infrastructure to Climate Change']}\n",
      "{'DOI': '10.1002/9781119318613.index', 'URL': 'http://dx.doi.org/10.1002/9781119318613.index', 'title': ['Index']}\n",
      "{'DOI': '10.1002/9781119318613.ch9', 'URL': 'http://dx.doi.org/10.1002/9781119318613.ch9', 'title': ['Secondary Stiffness of Fastening Clips: Influence on the Behavior of the Railway Track Panel']}\n",
      "{'DOI': '10.1002/9781119318613.contrib', 'URL': 'http://dx.doi.org/10.1002/9781119318613.contrib', 'title': ['List of Authors']}\n",
      "{'DOI': '10.1002/9781119318613.ch8', 'URL': 'http://dx.doi.org/10.1002/9781119318613.ch8', 'title': ['CAPACITY4RAIL: Toward a Resilient, Innovative and High-capacity European Railway System for 2030/2050']}\n",
      "{'DOI': '10.1177/1464420716674747', 'URL': 'http://dx.doi.org/10.1177/1464420716674747', 'title': ['Green recoating of cotton fiber by different starching methods']}\n",
      "{'DOI': '10.1007/978-3-319-47835-7_7', 'URL': 'http://dx.doi.org/10.1007/978-3-319-47835-7_7', 'title': ['Self-assembly Thin Films for Sensing']}\n",
      "{'DOI': '10.1038/nmat4820', 'URL': 'http://dx.doi.org/10.1038/nmat4820', 'title': ['Suprapowered nanomachines']}\n",
      "{'DOI': '10.1038/nmat4806', 'URL': 'http://dx.doi.org/10.1038/nmat4806', 'title': ['Spin-to-charge current conversion']}\n",
      "{'DOI': '10.1038/nmat4817', 'URL': 'http://dx.doi.org/10.1038/nmat4817', 'title': ['A jammy guess?']}\n",
      "{'DOI': '10.1520/mpc20150056', 'URL': 'http://dx.doi.org/10.1520/mpc20150056', 'title': ['Mechanical Properties of Epoxy Matrix-Borosilicate Glass Hollow-Particle Syntactic Foams']}\n",
      "{'DOI': '10.5604/17348412.1230097', 'URL': 'http://dx.doi.org/10.5604/17348412.1230097', 'title': ['Effect of graphene as anti-settling agent  for magnetorheological fluid']}\n",
      "{'DOI': '10.5604/17348412.1230098', 'URL': 'http://dx.doi.org/10.5604/17348412.1230098', 'title': ['Utilization of synthetic based mineral filler in wood plastics composite']}\n",
      "{'DOI': '10.5604/17348412.1230100', 'URL': 'http://dx.doi.org/10.5604/17348412.1230100', 'title': ['Online vibration suppression in lathe machine']}\n",
      "{'DOI': '10.1119/1.1990687', 'URL': 'http://dx.doi.org/10.1119/1.1990687', 'title': ['The Reality Problem in Quantum Mechanics']}\n",
      "{'DOI': '10.2989/16073606.2017.1284911', 'URL': 'http://dx.doi.org/10.2989/16073606.2017.1284911', 'title': ['A research on spectral analysis of a matrix Quantum difference equations with spectral singularities']}\n",
      "{'DOI': '10.1016/j.nimb.2017.03.113', 'URL': 'http://dx.doi.org/10.1016/j.nimb.2017.03.113', 'title': ['Enhancement of Ag nanoparticles concentration by prior ion implantation']}\n",
      "{'DOI': '10.1016/j.bioactmat.2017.03.003', 'URL': 'http://dx.doi.org/10.1016/j.bioactmat.2017.03.003', 'title': ['Melt electrospinning of daunorubicin hydrochloride-loaded poly (ε-caprolactone) fibrous membrane for tumor therapy']}\n",
      "{'DOI': '10.1016/s1474-6670(17)38907-3', 'URL': 'http://dx.doi.org/10.1016/s1474-6670(17)38907-3', 'title': ['Discretely Monotonically Convergent Algorithms in Quantum Control']}\n",
      "{'DOI': '10.1016/s1474-6670(17)38896-1', 'URL': 'http://dx.doi.org/10.1016/s1474-6670(17)38896-1', 'title': ['Indirect Adaptive Control of Quantum Systems']}\n",
      "{'DOI': '10.1520/d1481-17', 'URL': 'http://dx.doi.org/10.1520/d1481-17', 'title': ['Test Method for Density and Relative Density (Specific Gravity) of Viscous Materials by Lipkin Bicapillary Pycnometer']}\n",
      "{'DOI': '10.18690/978-961-286-052-3.7', 'URL': 'http://dx.doi.org/10.18690/978-961-286-052-3.7', 'title': ['Thermal Energy Storage Composites Based on Clay and Phase Change Materials']}\n",
      "{'DOI': '10.18690/978-961-286-052-3.8', 'URL': 'http://dx.doi.org/10.18690/978-961-286-052-3.8', 'title': ['Materials Selection for Thermal Energy Storage: How to Increase the Thermal Conductivity of Phase Change Materials']}\n",
      "{'DOI': '10.1016/j.jmmm.2017.07.038', 'URL': 'http://dx.doi.org/10.1016/j.jmmm.2017.07.038', 'title': ['Effect of nitrogen incorporation on the ordering transformation of CoPt in CoPt/TiN bilayer films']}\n",
      "{'DOI': '10.1016/j.msea.2017.07.017', 'URL': 'http://dx.doi.org/10.1016/j.msea.2017.07.017', 'title': ['Towards a micromechanical based description for strength increase in dual phase steels during bake-hardening process']}\n",
      "{'DOI': '10.1155/2017/1759469', 'URL': 'http://dx.doi.org/10.1155/2017/1759469', 'title': ['Fabrication of Metal Nanoparticle Arrays in the ZrO2(Y), HfO2(Y), and GeOx Films by Magnetron Sputtering']}\n",
      "{'DOI': '10.7554/elife.26117.038', 'URL': 'http://dx.doi.org/10.7554/elife.26117.038', 'title': ['Appendix 1—figure 1. Schematic of the biophysically realistic Drosophila R1-R6 model, which mimics phototransduction by transducing light input (a dynamic flux of photons) into macroscopic output, light-induced current (LIC).']}\n",
      "{'DOI': '10.7554/elife.27057.003', 'URL': 'http://dx.doi.org/10.7554/elife.27057.003', 'title': ['Figure 1—figure supplement 1. Spatial preferences elicited by substrates of different hardnesses and nutritional values.']}\n",
      "{'DOI': '10.7554/elife.27057.007', 'URL': 'http://dx.doi.org/10.7554/elife.27057.007', 'title': ['Figure 3—figure supplement 1. Diving in soft substrates involves the risk of drowning.']}\n",
      "{'DOI': '10.7554/elife.26117.003', 'URL': 'http://dx.doi.org/10.7554/elife.26117.003', 'title': ['Figure 1. Photoreceptors respond best to high-contrast bursts.']}\n",
      "{'DOI': '10.7554/elife.26117.011', 'URL': 'http://dx.doi.org/10.7554/elife.26117.011', 'title': ['Figure 2—figure supplement 2. Light-adapted R1-R6 noise is similar for all the test stimuli, with its high-frequencies reflecting the mean quantum bump shape and its low-frequencies the rhabdomere jitter.']}\n",
      "{'DOI': '10.7554/elife.27057.019', 'URL': 'http://dx.doi.org/10.7554/elife.27057.019', 'title': ['Figure 5—figure supplement 4. Diving is significantly reduced by the perception of sugar mixed in the agarose substrate.']}\n",
      "{'DOI': '10.7554/elife.26117.014', 'URL': 'http://dx.doi.org/10.7554/elife.26117.014', 'title': ['Figure 3. Model output is realistic over the whole encoding range.']}\n",
      "{'DOI': '10.7554/elife.26117.042', 'URL': 'http://dx.doi.org/10.7554/elife.26117.042', 'title': ['Appendix 2—figure 2. Different temporal ranges of a Drosophila R1-R6 photoreceptor’s intrinsic light adaptation mechanisms.']}\n",
      "{'DOI': '10.1016/j.msea.2017.09.021', 'URL': 'http://dx.doi.org/10.1016/j.msea.2017.09.021', 'title': ['New approach for plastic deformation behavior of GH4169 superalloy with in-situ electric-pulse current at 800 °C']}\n",
      "{'DOI': '10.1016/j.msea.2017.09.028', 'URL': 'http://dx.doi.org/10.1016/j.msea.2017.09.028', 'title': ['Achieving high strength and ductility in double-sided friction stir processing 7050-T7451 aluminum alloy']}\n",
      "{'DOI': '10.7554/elife.31993.009', 'URL': 'http://dx.doi.org/10.7554/elife.31993.009', 'title': ['Figure 4. Quantification of EGFR phosphorylation and EGFR ligand concentrations in tumor xenografts and human HNSCC specimens.']}\n"
     ]
    },
    {
     "name": "stdout",
     "output_type": "stream",
     "text": [
      "{'DOI': '10.7554/elife.31993.003', 'URL': 'http://dx.doi.org/10.7554/elife.31993.003', 'title': ['Figure 2. Localization and dynamics of EGFR-GFP in HSC3/EGFR-GFP tumor xenografts.']}\n",
      "{'DOI': '10.1557/jmr.2018.34', 'URL': 'http://dx.doi.org/10.1557/jmr.2018.34', 'title': ['Influence of the admicelled poly(methyl methacrylate) on the compatibility and toughness of poly(lactic acid)']}\n",
      "{'DOI': '10.22394/2071-2367-2017-12-5-226-235', 'URL': 'http://dx.doi.org/10.22394/2071-2367-2017-12-5-226-235', 'title': ['EVALUATION OF MAJOR SPHERES OF THE REGION PUBLIC LIFE BY POPULATION (ON THE MATERIALS OF THE OREL REGION)']}\n",
      "{'DOI': '10.23971/jefl.v1i2.194', 'URL': 'http://dx.doi.org/10.23971/jefl.v1i2.194', 'title': ['The effects of authentic materials on students’ writing of procedural text']}\n",
      "{'DOI': '10.23971/jefl.v5i1.94', 'URL': 'http://dx.doi.org/10.23971/jefl.v5i1.94', 'title': ['DEVELOPING INSTRUCTIONAL MATERIALS OF ENGLISH MORPHOLOGY FOR ENGLISH DEPARTMENT COLLEGE-LEARNERS']}\n",
      "{'DOI': '10.23971/jefl.v5i2.370', 'URL': 'http://dx.doi.org/10.23971/jefl.v5i2.370', 'title': ['Developing Islamic English Instructional Materials Based on School-Based Curriculum']}\n",
      "{'DOI': '10.1111/jace.15580', 'URL': 'http://dx.doi.org/10.1111/jace.15580', 'title': ['Fast preparation of Cu(In,Ga)Se\\n            2\\n            and CuIn(S,Se)\\n            2\\n            bulk materials by combustion synthesis']}\n",
      "{'DOI': '10.1002/9781119452874.ch5', 'URL': 'http://dx.doi.org/10.1002/9781119452874.ch5', 'title': ['Chemistry and Quantum Communications']}\n",
      "{'DOI': '10.1002/9781119452874.ch4', 'URL': 'http://dx.doi.org/10.1002/9781119452874.ch4', 'title': ['Quantum Darwinism and the Macroscopic World']}\n",
      "{'DOI': '10.1016/s0065-3276(18)30008-x', 'URL': 'http://dx.doi.org/10.1016/s0065-3276(18)30008-x', 'title': ['Series Page']}\n",
      "{'DOI': '10.1016/s0065-3276(18)30012-1', 'URL': 'http://dx.doi.org/10.1016/s0065-3276(18)30012-1', 'title': ['Contributors']}\n",
      "{'DOI': '10.1002/9781119452874.ch1', 'URL': 'http://dx.doi.org/10.1002/9781119452874.ch1', 'title': ['Quantum Physics and Information']}\n",
      "{'DOI': '10.1002/9781119452874.ch2', 'URL': 'http://dx.doi.org/10.1002/9781119452874.ch2', 'title': ['Two Quantum Studies']}\n",
      "{'DOI': '10.1002/9781119452874.ch3', 'URL': 'http://dx.doi.org/10.1002/9781119452874.ch3', 'title': ['Quantum Entanglement']}\n",
      "{'DOI': '10.1002/9781119185161.ch17', 'URL': 'http://dx.doi.org/10.1002/9781119185161.ch17', 'title': ['The Search for “Greener” Materials for Winter Road Maintenance Operations']}\n",
      "{'DOI': '10.1007/978-981-13-0107-0_19', 'URL': 'http://dx.doi.org/10.1007/978-981-13-0107-0_19', 'title': ['High Temperature Hot Deformation Behavior and Constitutive Model Construction of High Quality 51CrV4 Spring Steel']}\n",
      "{'DOI': '10.1007/978-981-13-0107-0_24', 'URL': 'http://dx.doi.org/10.1007/978-981-13-0107-0_24', 'title': ['Void Evolution Law and Its Control in Steel Ingot Forging']}\n",
      "{'DOI': '10.1007/978-981-13-0107-0_26', 'URL': 'http://dx.doi.org/10.1007/978-981-13-0107-0_26', 'title': ['Microstructure and Texture of Hot Rolled Plate and Finished Product in Fe–3%Si Common Grain-Oriented Silicon Steel']}\n",
      "{'DOI': '10.1007/978-981-13-0107-0_28', 'URL': 'http://dx.doi.org/10.1007/978-981-13-0107-0_28', 'title': ['Analysis of Large Inclusions in the Working Layer of Centrifugally Cast High-Chromium Steel Composite Roll']}\n",
      "{'DOI': '10.1007/978-981-13-0107-0_29', 'URL': 'http://dx.doi.org/10.1007/978-981-13-0107-0_29', 'title': ['Optimization of 6005 Aluminum Alloy Components']}\n",
      "{'DOI': '10.1007/978-981-13-0107-0_38', 'URL': 'http://dx.doi.org/10.1007/978-981-13-0107-0_38', 'title': ['Technic Study on Polycrystalline Cubic Boron Nitride Tools Dry Cutting Harden GCr15 Based on the Finite Element Analysis and the Orthogonal Experiment']}\n",
      "{'DOI': '10.1007/978-981-13-0107-0_72', 'URL': 'http://dx.doi.org/10.1007/978-981-13-0107-0_72', 'title': ['Surface Integrity of Nickel-Base Superalloy Materials by Electric Hot Machining']}\n",
      "{'DOI': '10.1007/978-981-13-0107-0_74', 'URL': 'http://dx.doi.org/10.1007/978-981-13-0107-0_74', 'title': ['Polishing on Cubic Boron Nitride Abrasive Materials of Bearing Hollow Roller']}\n",
      "{'DOI': '10.1007/978-981-13-0107-0_79', 'URL': 'http://dx.doi.org/10.1007/978-981-13-0107-0_79', 'title': ['Different Interfaces of Primary Transition and Eutectic Transition']}\n",
      "{'DOI': '10.1007/978-981-13-0107-0_82', 'URL': 'http://dx.doi.org/10.1007/978-981-13-0107-0_82', 'title': ['Microstructures and Mechanical Properties of 584\\xa0mm 7055 Alloy Billet by Direct Chill Casting Under Annular Electromagnetic Stirring Coupled with Intercooling']}\n",
      "{'DOI': '10.1007/978-981-13-0107-0_87', 'URL': 'http://dx.doi.org/10.1007/978-981-13-0107-0_87', 'title': ['Failure Mechanisms of Ti–Al3Ti Metal-Intermetallic Laminate Composites']}\n",
      "{'DOI': '10.1007/978-981-13-0107-0_89', 'URL': 'http://dx.doi.org/10.1007/978-981-13-0107-0_89', 'title': ['P110T Casing Material’s Relation of Creep and Relaxation for the Sealing Surface of Premium Connection in High Temperature Gas Well']}\n",
      "{'DOI': '10.1007/978-981-13-0107-0_92', 'URL': 'http://dx.doi.org/10.1007/978-981-13-0107-0_92', 'title': ['Material Identification and Safety Evaluation of Defective 15Cr1Mo1V Steel']}\n",
      "{'DOI': '10.1007/978-981-13-0107-0_94', 'URL': 'http://dx.doi.org/10.1007/978-981-13-0107-0_94', 'title': ['Dropout Failure Analysis for Long Round Thread Connection at Mill End']}\n",
      "{'DOI': '10.1007/978-981-13-0107-0_5', 'URL': 'http://dx.doi.org/10.1007/978-981-13-0107-0_5', 'title': ['Preparation and Wear Behavior of Enamel Coating on Ti–6Al–4V ELI Titanium Alloy']}\n",
      "{'DOI': '10.1007/978-981-13-0107-0_17', 'URL': 'http://dx.doi.org/10.1007/978-981-13-0107-0_17', 'title': ['Influence of Initial Microstructure on the Hot Working Flow Stress of ZK60\\xa0Mg Alloy']}\n",
      "{'DOI': '10.1007/978-981-13-0107-0_27', 'URL': 'http://dx.doi.org/10.1007/978-981-13-0107-0_27', 'title': ['Effect and Mechanism of Cold-Hot Roll Bonding Process on Interfacial Bonding Properties of Aluminum/Steel Laminated Composite Plate']}\n",
      "{'DOI': '10.1007/978-981-13-0107-0_25', 'URL': 'http://dx.doi.org/10.1007/978-981-13-0107-0_25', 'title': ['Comparison of the High Cycle Fatigue Behavior of Ti–6Al–4V Produced Respectively by EBM and Hot-Rolling']}\n",
      "{'DOI': '10.1007/978-981-13-0107-0_30', 'URL': 'http://dx.doi.org/10.1007/978-981-13-0107-0_30', 'title': ['Role of Annealing Time in Thin-Gauge Non-oriented Silicon Steels Processed by Strip Casting']}\n",
      "{'DOI': '10.1007/978-981-13-0107-0_31', 'URL': 'http://dx.doi.org/10.1007/978-981-13-0107-0_31', 'title': ['Temperature Distribution Laws During Selective Laser Melting Process of Nickel Base Alloy GH4169']}\n",
      "{'DOI': '10.1007/978-981-13-0107-0_32', 'URL': 'http://dx.doi.org/10.1007/978-981-13-0107-0_32', 'title': ['Microstructure, Residual Stress and Corrosion Resistance in Electrodeposited Copper Foils']}\n",
      "{'DOI': '10.1007/978-981-13-0107-0_33', 'URL': 'http://dx.doi.org/10.1007/978-981-13-0107-0_33', 'title': ['Effect of Co Addition on Microstructure and Properties of Cu–Ni–Si Alloy']}\n",
      "{'DOI': '10.1007/978-981-13-0107-0_34', 'URL': 'http://dx.doi.org/10.1007/978-981-13-0107-0_34', 'title': ['Effect of Controlled Rolling and Cooling on Microstructure and Properties of Cold Heading Steel Containing Boron and Titanium']}\n",
      "{'DOI': '10.1007/978-981-13-0107-0_35', 'URL': 'http://dx.doi.org/10.1007/978-981-13-0107-0_35', 'title': ['Preparation of TiAl Based Metallic Fibers']}\n",
      "{'DOI': '10.1007/978-981-13-0107-0_36', 'URL': 'http://dx.doi.org/10.1007/978-981-13-0107-0_36', 'title': ['Microstructure and Microhardness of a Laser Additive Forming Repaired Steam Turbine Blade']}\n",
      "{'DOI': '10.1007/978-981-13-0107-0_40', 'URL': 'http://dx.doi.org/10.1007/978-981-13-0107-0_40', 'title': ['Transformation Behavior During Isothermal Partitioning Process in Micro-alloyed Q&P Steel']}\n",
      "{'DOI': '10.1007/978-981-13-0107-0_43', 'URL': 'http://dx.doi.org/10.1007/978-981-13-0107-0_43', 'title': ['Efficient Water-Based Rust Inhibitor for Surface Treatment of Iron and Steel']}\n",
      "{'DOI': '10.1007/978-981-13-0107-0_41', 'URL': 'http://dx.doi.org/10.1007/978-981-13-0107-0_41', 'title': ['Effects of Heat Treatment on Microstructures and Mechanical Properties of Stainless Steel Tubes for Rivet Parts']}\n",
      "{'DOI': '10.1007/978-981-13-0107-0_42', 'URL': 'http://dx.doi.org/10.1007/978-981-13-0107-0_42', 'title': ['Effect of Post-weld Heat Treatment on Microstructure and Mechanical Properties of 309L/E5015 Fusion Zone of Bimetal Lined Pipe Weld']}\n",
      "{'DOI': '10.1007/978-981-13-0107-0_44', 'URL': 'http://dx.doi.org/10.1007/978-981-13-0107-0_44', 'title': ['Effects of Fiber Laser Welding Speeds on Microstructures and Properties of E36 Steel Butt Joints']}\n",
      "{'DOI': '10.1007/978-3-319-76641-6_1', 'URL': 'http://dx.doi.org/10.1007/978-3-319-76641-6_1', 'title': ['Introduction']}\n",
      "{'DOI': '10.1615/computthermalscien.2018022912', 'URL': 'http://dx.doi.org/10.1615/computthermalscien.2018022912', 'title': ['NUMERICAL ANALYSIS OF CONCENTRIC DOUBLE PIPE LATENT THERMAL ENERGY STORAGE UNIT USING TWO PHASE CHANGE MATERIALS FOR SOLAR WATER HEATING APPLICATIONS']}\n",
      "{'DOI': '10.20915/2077-1177-2017-13-3-4-9-19', 'URL': 'http://dx.doi.org/10.20915/2077-1177-2017-13-3-4-9-19', 'title': ['National market of reference materials. Curreent state, problems, and development prospects. Part 1. Introduction. Development of the national market of reference materials']}\n",
      "{'DOI': '10.20915/2077-1177-2017-13-3-4-21-27', 'URL': 'http://dx.doi.org/10.20915/2077-1177-2017-13-3-4-21-27', 'title': ['Effect of magnetic viscosity on magnetic property measurements of hard magnetic materials']}\n",
      "{'DOI': '10.20915/2077-1177-2017-13-3-4-29-40', 'URL': 'http://dx.doi.org/10.20915/2077-1177-2017-13-3-4-29-40', 'title': ['Using reference materials of blast furnace slag, steelmaking slag, converter slag and fused fluxes when developing a procedure for analysis of slag-forming mixtures using inductively coupled plasma atomic emission spectrometry']}\n",
      "{'DOI': '10.7554/elife.34186.019', 'URL': 'http://dx.doi.org/10.7554/elife.34186.019', 'title': ['Figure 8. Physical mechanism of UvrD functional switching.']}\n",
      "{'DOI': '10.1007/s10701-009-9376-8', 'URL': 'http://dx.doi.org/10.1007/s10701-009-9376-8', 'title': ['Undecidability and the Problem of Outcomes in\\xa0Quantum Measurements']}\n",
      "{'DOI': '10.1111/j.1460-2695.2009.01411.x', 'URL': 'http://dx.doi.org/10.1111/j.1460-2695.2009.01411.x', 'title': ['On the estimation of fatigue life in notches differentiating the phases of crack initiation and propagation']}\n",
      "{'DOI': '10.1117/12.849504', 'URL': 'http://dx.doi.org/10.1117/12.849504', 'title': ['New materials of co-doped ZnO for LEDs and thin films solar cells']}\n",
      "{'DOI': '10.1142/s204768411850029x', 'URL': 'http://dx.doi.org/10.1142/s204768411850029x', 'title': ['Modified Becke–Johnson (mBJ) exchange potential investigation of the optoelectronic properties of XThO3(X = Sa, Sr and Ba)']}\n",
      "{'DOI': '10.31988/scitrends.46966', 'URL': 'http://dx.doi.org/10.31988/scitrends.46966', 'title': ['Fusion Technology: The Stability Of Porous SiC-Based Materials\\xa0']}\n",
      "{'DOI': '10.31988/scitrends.47277', 'URL': 'http://dx.doi.org/10.31988/scitrends.47277', 'title': ['Open-Cell Foams: Promising Materials In High-Temperature Energy Conversion And Utilization']}\n",
      "{'DOI': '10.15407/fm26.03.635', 'URL': 'http://dx.doi.org/10.15407/fm26.03.635', 'title': ['A simple RGB-type chromogenic sensor based on color modulation of chloranilic acid for moisture determination of alcohols']}\n",
      "{'DOI': '10.6060/mhc140376z', 'URL': 'http://dx.doi.org/10.6060/mhc140376z', 'title': ['New Hybrid Materials Based on the Water Soluble Zinc Phthalocyanines and V2O5·nH2O']}\n",
      "{'DOI': '10.1541/ieejfms.135.398', 'URL': 'http://dx.doi.org/10.1541/ieejfms.135.398', 'title': ['Standing Waves in an Electromagnetic Field of Spherical Symmetry']}\n",
      "{'DOI': '10.1541/ieejfms.135.424', 'URL': 'http://dx.doi.org/10.1541/ieejfms.135.424', 'title': ['Fundamental Study for Locating Water Tree Degradation in XLPE Cables']}\n",
      "{'DOI': '10.1541/ieejfms.135.385', 'URL': 'http://dx.doi.org/10.1541/ieejfms.135.385', 'title': ['Influence of Sampling Frequency on Magnetic Characteristic Evaluation under Inverter Excitation']}\n",
      "{'DOI': '10.1541/ieejfms.135.403', 'URL': 'http://dx.doi.org/10.1541/ieejfms.135.403', 'title': ['Iwami-kagura Robot Performance Contest']}\n",
      "{'DOI': '10.1541/ieejfms.135.431', 'URL': 'http://dx.doi.org/10.1541/ieejfms.135.431', 'title': ['Development of Evaluation System of Water Purification by Photocatalyst']}\n",
      "{'DOI': '10.1541/ieejfms.135.nl7_3', 'URL': 'http://dx.doi.org/10.1541/ieejfms.135.nl7_3', 'title': ['']}\n",
      "{'DOI': '10.1541/ieejfms.135.414', 'URL': 'http://dx.doi.org/10.1541/ieejfms.135.414', 'title': ['3D Vibration Analysis on Three Phase Transformer Cores']}\n",
      "{'DOI': '10.1541/ieejfms.135.391', 'URL': 'http://dx.doi.org/10.1541/ieejfms.135.391', 'title': ['Influence of Angle of Principal Stress on Vector Magnetic Properties of a Non-oriented Electrical Steel Sheet']}\n",
      "{'DOI': '10.1541/ieejfms.135.433', 'URL': 'http://dx.doi.org/10.1541/ieejfms.135.433', 'title': ['Development of Secondary Electron Emission Measurement System for Wide Energy Range with Aging']}\n",
      "{'DOI': '10.1541/ieejfms.135.nl7_4', 'URL': 'http://dx.doi.org/10.1541/ieejfms.135.nl7_4', 'title': ['IEEJ Fundamentals and Materials Society']}\n",
      "{'DOI': '10.1541/ieejfms.135.nl7_2', 'URL': 'http://dx.doi.org/10.1541/ieejfms.135.nl7_2', 'title': ['']}\n",
      "{'DOI': '10.1541/ieejfms.135.nl7_1', 'URL': 'http://dx.doi.org/10.1541/ieejfms.135.nl7_1', 'title': ['']}\n",
      "{'DOI': '10.1541/ieejfms.135.es7_1', 'URL': 'http://dx.doi.org/10.1541/ieejfms.135.es7_1', 'title': ['Extended Summaries']}\n",
      "{'DOI': '10.1541/ieejfms.135.435', 'URL': 'http://dx.doi.org/10.1541/ieejfms.135.435', 'title': ['Desulfurization of UCG Gas using a Packed-bed Dielectric Barrier Discharge']}\n",
      "{'DOI': '10.5940/jcrsj.57.170', 'URL': 'http://dx.doi.org/10.5940/jcrsj.57.170', 'title': ['Development of Materials Science by <i>Ab Initio</i> Powder Diffraction Analysis']}\n",
      "{'DOI': '10.15382/sturv201934.146-156', 'URL': 'http://dx.doi.org/10.15382/sturv201934.146-156', 'title': ['Archive materials of V. F. Odoyevsky: f. 380, Russian state library']}\n",
      "{'DOI': '10.1039/c6ta90006b', 'URL': 'http://dx.doi.org/10.1039/c6ta90006b', 'title': ['Inside front cover']}\n",
      "{'DOI': '10.1039/c6ta90007k', 'URL': 'http://dx.doi.org/10.1039/c6ta90007k', 'title': ['Contents list']}\n",
      "{'DOI': '10.1039/c6ta90005d', 'URL': 'http://dx.doi.org/10.1039/c6ta90005d', 'title': ['Front cover']}\n",
      "{'DOI': '10.1002/adma.201504589', 'URL': 'http://dx.doi.org/10.1002/adma.201504589', 'title': ['Development of Highly Functional Biomaterials by Decoupling and Recombining Material Properties']}\n",
      "{'DOI': '10.1016/j.commatsci.2016.10.014', 'URL': 'http://dx.doi.org/10.1016/j.commatsci.2016.10.014', 'title': ['DFT +U studies of triclinic phase of BiNiO3 and La-substituted BiNiO3']}\n",
      "{'DOI': '10.1007/978-3-319-47835-7_6', 'URL': 'http://dx.doi.org/10.1007/978-3-319-47835-7_6', 'title': ['Nanomaterials as Implantable Sensors']}\n",
      "{'DOI': '10.1007/978-3-319-47835-7_9', 'URL': 'http://dx.doi.org/10.1007/978-3-319-47835-7_9', 'title': ['Materials for Electronic Tongues: Smart Sensor Combining Different Materials and Chemometric Tools']}\n",
      "{'DOI': '10.1007/s11082-016-0791-8', 'URL': 'http://dx.doi.org/10.1007/s11082-016-0791-8', 'title': ['Effect of submicron deformations on the transmission of all-solid photonic bandgap fibre']}\n",
      "{'DOI': '10.1038/nmat4773', 'URL': 'http://dx.doi.org/10.1038/nmat4773', 'title': ['The pathway to atomic alignment']}\n",
      "{'DOI': '10.1002/admt.201700079', 'URL': 'http://dx.doi.org/10.1002/admt.201700079', 'title': ['Fabrication of Thermally Stable Silver-Organic Complex (TS-SOC) Based Conductible Filament Materials for 3D Printing']}\n",
      "{'DOI': '10.1039/c7cp07079a', 'URL': 'http://dx.doi.org/10.1039/c7cp07079a', 'title': ['What regulates the catalytic activities in AGE catalysis? An answer from quantum mechanics/molecular mechanics simulations']}\n",
      "{'DOI': '10.1007/978-3-319-58538-3_155-1', 'URL': 'http://dx.doi.org/10.1007/978-3-319-58538-3_155-1', 'title': ['Modelization of Trihalomethanes Formation in Drinking Water Distribution Systems in France']}\n",
      "{'DOI': '10.1166/jno.2017.2261', 'URL': 'http://dx.doi.org/10.1166/jno.2017.2261', 'title': ['Improvement of Quantum Genetic Algorithm and Its Application in Cognitive Radio Spectrum Distribution']}\n",
      "{'DOI': '10.1016/j.conbuildmat.2018.12.165', 'URL': 'http://dx.doi.org/10.1016/j.conbuildmat.2018.12.165', 'title': ['Modified two-phase micromechanical model and generalized self-consistent model for predicting dynamic modulus of asphalt concrete']}\n",
      "{'DOI': '10.1080/15376494.2018.1549295', 'URL': 'http://dx.doi.org/10.1080/15376494.2018.1549295', 'title': ['Design of a distributed compliant mechanism using spring-lever model and topology optimization for piezoelectrically actuated flapping wings']}\n",
      "{'DOI': '10.4028/www.scientific.net/amm.894', 'URL': 'http://dx.doi.org/10.4028/www.scientific.net/amm.894'}\n",
      "{'DOI': '10.4028/www.scientific.net/amm.894.1', 'URL': 'http://dx.doi.org/10.4028/www.scientific.net/amm.894.1', 'title': ['Identification of Vibration Parameters of Mechanical System Utilizing Low-Cost MEMS Accelerometers']}\n",
      "{'DOI': '10.4028/www.scientific.net/amm.894.9', 'URL': 'http://dx.doi.org/10.4028/www.scientific.net/amm.894.9', 'title': ['Development of 3D Printable Bone Model with Fracture Lines for Additive Manufacturing Applications']}\n",
      "{'DOI': '10.4028/www.scientific.net/amm.894.15', 'URL': 'http://dx.doi.org/10.4028/www.scientific.net/amm.894.15', 'title': ['Studies on Pest Identification by Ultrasound']}\n",
      "{'DOI': '10.4028/www.scientific.net/amm.894.21', 'URL': 'http://dx.doi.org/10.4028/www.scientific.net/amm.894.21', 'title': ['Application of Diamond Fly Cutting to Improve Form Accuracy by In-Process Measurement and Control for Ordinary Milling Machines']}\n",
      "{'DOI': '10.4028/www.scientific.net/amm.894.29', 'URL': 'http://dx.doi.org/10.4028/www.scientific.net/amm.894.29', 'title': ['A Semi-Active Controller for an Aircraft Landing Gear Equipped with Magnetorheological Damper']}\n",
      "{'DOI': '10.4028/www.scientific.net/amm.894.51', 'URL': 'http://dx.doi.org/10.4028/www.scientific.net/amm.894.51', 'title': ['A Study on Active Closed-Loop Gap Control for Hydrostatic Bearing']}\n",
      "{'DOI': '10.4028/www.scientific.net/amm.894.41', 'URL': 'http://dx.doi.org/10.4028/www.scientific.net/amm.894.41', 'title': ['Force Analysis for a Variable-Pitch Rotor Meshing Pair in Twin-Screw Vacuum Pump Generating on CNC Turning Machine']}\n",
      "{'DOI': '10.4028/www.scientific.net/amm.894.34', 'URL': 'http://dx.doi.org/10.4028/www.scientific.net/amm.894.34', 'title': ['A Novel Rotor Profile Generation Method for Claw-Type Vacuum Pumps Based on Sealing Line']}\n",
      "{'DOI': '10.4028/www.scientific.net/amm.894.60', 'URL': 'http://dx.doi.org/10.4028/www.scientific.net/amm.894.60', 'title': ['Development and Analysis for a New Compliant XY Micropositioning Stage Applied for Nanoindentation Tester System']}\n"
     ]
    },
    {
     "ename": "KeyboardInterrupt",
     "evalue": "",
     "output_type": "error",
     "traceback": [
      "\u001b[1;31m---------------------------------------------------------------------------\u001b[0m",
      "\u001b[1;31mKeyboardInterrupt\u001b[0m                         Traceback (most recent call last)",
      "\u001b[1;32m<ipython-input-7-8699f0b1605b>\u001b[0m in \u001b[0;36m<module>\u001b[1;34m\u001b[0m\n\u001b[1;32m----> 1\u001b[1;33m \u001b[1;32mfor\u001b[0m \u001b[0mi\u001b[0m \u001b[1;32min\u001b[0m \u001b[0mworks\u001b[0m\u001b[1;33m.\u001b[0m\u001b[0mquery\u001b[0m\u001b[1;33m(\u001b[0m\u001b[1;34m'quantum materials'\u001b[0m\u001b[1;33m)\u001b[0m\u001b[1;33m.\u001b[0m\u001b[0mselect\u001b[0m\u001b[1;33m(\u001b[0m\u001b[1;34m'DOI, title, URL'\u001b[0m\u001b[1;33m)\u001b[0m\u001b[1;33m:\u001b[0m\u001b[1;33m\u001b[0m\u001b[1;33m\u001b[0m\u001b[0m\n\u001b[0m\u001b[0;32m      2\u001b[0m     \u001b[0mprint\u001b[0m\u001b[1;33m(\u001b[0m\u001b[0mi\u001b[0m\u001b[1;33m)\u001b[0m\u001b[1;33m\u001b[0m\u001b[1;33m\u001b[0m\u001b[0m\n",
      "\u001b[1;32mc:\\users\\mau13\\appdata\\local\\programs\\python\\python38\\lib\\site-packages\\crossref\\restful.py\u001b[0m in \u001b[0;36m__iter__\u001b[1;34m(self)\u001b[0m\n\u001b[0;32m    280\u001b[0m             \u001b[0mrequest_params\u001b[0m\u001b[1;33m[\u001b[0m\u001b[1;34m'rows'\u001b[0m\u001b[1;33m]\u001b[0m \u001b[1;33m=\u001b[0m \u001b[0mLIMIT\u001b[0m\u001b[1;33m\u001b[0m\u001b[1;33m\u001b[0m\u001b[0m\n\u001b[0;32m    281\u001b[0m             \u001b[1;32mwhile\u001b[0m \u001b[1;32mTrue\u001b[0m\u001b[1;33m:\u001b[0m\u001b[1;33m\u001b[0m\u001b[1;33m\u001b[0m\u001b[0m\n\u001b[1;32m--> 282\u001b[1;33m                 result = self.do_http_request(\n\u001b[0m\u001b[0;32m    283\u001b[0m                     \u001b[1;34m'get'\u001b[0m\u001b[1;33m,\u001b[0m\u001b[1;33m\u001b[0m\u001b[1;33m\u001b[0m\u001b[0m\n\u001b[0;32m    284\u001b[0m                     \u001b[0mrequest_url\u001b[0m\u001b[1;33m,\u001b[0m\u001b[1;33m\u001b[0m\u001b[1;33m\u001b[0m\u001b[0m\n",
      "\u001b[1;32mc:\\users\\mau13\\appdata\\local\\programs\\python\\python38\\lib\\site-packages\\crossref\\restful.py\u001b[0m in \u001b[0;36mdo_http_request\u001b[1;34m(self, method, endpoint, data, files, timeout, only_headers, custom_header)\u001b[0m\n\u001b[0;32m     75\u001b[0m             \u001b[0mresult\u001b[0m \u001b[1;33m=\u001b[0m \u001b[0maction\u001b[0m\u001b[1;33m(\u001b[0m\u001b[0mendpoint\u001b[0m\u001b[1;33m,\u001b[0m \u001b[0mdata\u001b[0m\u001b[1;33m=\u001b[0m\u001b[0mdata\u001b[0m\u001b[1;33m,\u001b[0m \u001b[0mfiles\u001b[0m\u001b[1;33m=\u001b[0m\u001b[0mfiles\u001b[0m\u001b[1;33m,\u001b[0m \u001b[0mtimeout\u001b[0m\u001b[1;33m=\u001b[0m\u001b[0mtimeout\u001b[0m\u001b[1;33m,\u001b[0m \u001b[0mheaders\u001b[0m\u001b[1;33m=\u001b[0m\u001b[0mheaders\u001b[0m\u001b[1;33m)\u001b[0m\u001b[1;33m\u001b[0m\u001b[1;33m\u001b[0m\u001b[0m\n\u001b[0;32m     76\u001b[0m         \u001b[1;32melse\u001b[0m\u001b[1;33m:\u001b[0m\u001b[1;33m\u001b[0m\u001b[1;33m\u001b[0m\u001b[0m\n\u001b[1;32m---> 77\u001b[1;33m             \u001b[0mresult\u001b[0m \u001b[1;33m=\u001b[0m \u001b[0maction\u001b[0m\u001b[1;33m(\u001b[0m\u001b[0mendpoint\u001b[0m\u001b[1;33m,\u001b[0m \u001b[0mparams\u001b[0m\u001b[1;33m=\u001b[0m\u001b[0mdata\u001b[0m\u001b[1;33m,\u001b[0m \u001b[0mtimeout\u001b[0m\u001b[1;33m=\u001b[0m\u001b[0mtimeout\u001b[0m\u001b[1;33m,\u001b[0m \u001b[0mheaders\u001b[0m\u001b[1;33m=\u001b[0m\u001b[0mheaders\u001b[0m\u001b[1;33m)\u001b[0m\u001b[1;33m\u001b[0m\u001b[1;33m\u001b[0m\u001b[0m\n\u001b[0m\u001b[0;32m     78\u001b[0m \u001b[1;33m\u001b[0m\u001b[0m\n\u001b[0;32m     79\u001b[0m         \u001b[1;32mif\u001b[0m \u001b[0mself\u001b[0m\u001b[1;33m.\u001b[0m\u001b[0mthrottle\u001b[0m \u001b[1;32mis\u001b[0m \u001b[1;32mTrue\u001b[0m\u001b[1;33m:\u001b[0m\u001b[1;33m\u001b[0m\u001b[1;33m\u001b[0m\u001b[0m\n",
      "\u001b[1;32mc:\\users\\mau13\\appdata\\local\\programs\\python\\python38\\lib\\site-packages\\requests\\api.py\u001b[0m in \u001b[0;36mget\u001b[1;34m(url, params, **kwargs)\u001b[0m\n\u001b[0;32m     74\u001b[0m \u001b[1;33m\u001b[0m\u001b[0m\n\u001b[0;32m     75\u001b[0m     \u001b[0mkwargs\u001b[0m\u001b[1;33m.\u001b[0m\u001b[0msetdefault\u001b[0m\u001b[1;33m(\u001b[0m\u001b[1;34m'allow_redirects'\u001b[0m\u001b[1;33m,\u001b[0m \u001b[1;32mTrue\u001b[0m\u001b[1;33m)\u001b[0m\u001b[1;33m\u001b[0m\u001b[1;33m\u001b[0m\u001b[0m\n\u001b[1;32m---> 76\u001b[1;33m     \u001b[1;32mreturn\u001b[0m \u001b[0mrequest\u001b[0m\u001b[1;33m(\u001b[0m\u001b[1;34m'get'\u001b[0m\u001b[1;33m,\u001b[0m \u001b[0murl\u001b[0m\u001b[1;33m,\u001b[0m \u001b[0mparams\u001b[0m\u001b[1;33m=\u001b[0m\u001b[0mparams\u001b[0m\u001b[1;33m,\u001b[0m \u001b[1;33m**\u001b[0m\u001b[0mkwargs\u001b[0m\u001b[1;33m)\u001b[0m\u001b[1;33m\u001b[0m\u001b[1;33m\u001b[0m\u001b[0m\n\u001b[0m\u001b[0;32m     77\u001b[0m \u001b[1;33m\u001b[0m\u001b[0m\n\u001b[0;32m     78\u001b[0m \u001b[1;33m\u001b[0m\u001b[0m\n",
      "\u001b[1;32mc:\\users\\mau13\\appdata\\local\\programs\\python\\python38\\lib\\site-packages\\requests\\api.py\u001b[0m in \u001b[0;36mrequest\u001b[1;34m(method, url, **kwargs)\u001b[0m\n\u001b[0;32m     59\u001b[0m     \u001b[1;31m# cases, and look like a memory leak in others.\u001b[0m\u001b[1;33m\u001b[0m\u001b[1;33m\u001b[0m\u001b[1;33m\u001b[0m\u001b[0m\n\u001b[0;32m     60\u001b[0m     \u001b[1;32mwith\u001b[0m \u001b[0msessions\u001b[0m\u001b[1;33m.\u001b[0m\u001b[0mSession\u001b[0m\u001b[1;33m(\u001b[0m\u001b[1;33m)\u001b[0m \u001b[1;32mas\u001b[0m \u001b[0msession\u001b[0m\u001b[1;33m:\u001b[0m\u001b[1;33m\u001b[0m\u001b[1;33m\u001b[0m\u001b[0m\n\u001b[1;32m---> 61\u001b[1;33m         \u001b[1;32mreturn\u001b[0m \u001b[0msession\u001b[0m\u001b[1;33m.\u001b[0m\u001b[0mrequest\u001b[0m\u001b[1;33m(\u001b[0m\u001b[0mmethod\u001b[0m\u001b[1;33m=\u001b[0m\u001b[0mmethod\u001b[0m\u001b[1;33m,\u001b[0m \u001b[0murl\u001b[0m\u001b[1;33m=\u001b[0m\u001b[0murl\u001b[0m\u001b[1;33m,\u001b[0m \u001b[1;33m**\u001b[0m\u001b[0mkwargs\u001b[0m\u001b[1;33m)\u001b[0m\u001b[1;33m\u001b[0m\u001b[1;33m\u001b[0m\u001b[0m\n\u001b[0m\u001b[0;32m     62\u001b[0m \u001b[1;33m\u001b[0m\u001b[0m\n\u001b[0;32m     63\u001b[0m \u001b[1;33m\u001b[0m\u001b[0m\n",
      "\u001b[1;32mc:\\users\\mau13\\appdata\\local\\programs\\python\\python38\\lib\\site-packages\\requests\\sessions.py\u001b[0m in \u001b[0;36mrequest\u001b[1;34m(self, method, url, params, data, headers, cookies, files, auth, timeout, allow_redirects, proxies, hooks, stream, verify, cert, json)\u001b[0m\n\u001b[0;32m    528\u001b[0m         }\n\u001b[0;32m    529\u001b[0m         \u001b[0msend_kwargs\u001b[0m\u001b[1;33m.\u001b[0m\u001b[0mupdate\u001b[0m\u001b[1;33m(\u001b[0m\u001b[0msettings\u001b[0m\u001b[1;33m)\u001b[0m\u001b[1;33m\u001b[0m\u001b[1;33m\u001b[0m\u001b[0m\n\u001b[1;32m--> 530\u001b[1;33m         \u001b[0mresp\u001b[0m \u001b[1;33m=\u001b[0m \u001b[0mself\u001b[0m\u001b[1;33m.\u001b[0m\u001b[0msend\u001b[0m\u001b[1;33m(\u001b[0m\u001b[0mprep\u001b[0m\u001b[1;33m,\u001b[0m \u001b[1;33m**\u001b[0m\u001b[0msend_kwargs\u001b[0m\u001b[1;33m)\u001b[0m\u001b[1;33m\u001b[0m\u001b[1;33m\u001b[0m\u001b[0m\n\u001b[0m\u001b[0;32m    531\u001b[0m \u001b[1;33m\u001b[0m\u001b[0m\n\u001b[0;32m    532\u001b[0m         \u001b[1;32mreturn\u001b[0m \u001b[0mresp\u001b[0m\u001b[1;33m\u001b[0m\u001b[1;33m\u001b[0m\u001b[0m\n",
      "\u001b[1;32mc:\\users\\mau13\\appdata\\local\\programs\\python\\python38\\lib\\site-packages\\requests\\sessions.py\u001b[0m in \u001b[0;36msend\u001b[1;34m(self, request, **kwargs)\u001b[0m\n\u001b[0;32m    641\u001b[0m \u001b[1;33m\u001b[0m\u001b[0m\n\u001b[0;32m    642\u001b[0m         \u001b[1;31m# Send the request\u001b[0m\u001b[1;33m\u001b[0m\u001b[1;33m\u001b[0m\u001b[1;33m\u001b[0m\u001b[0m\n\u001b[1;32m--> 643\u001b[1;33m         \u001b[0mr\u001b[0m \u001b[1;33m=\u001b[0m \u001b[0madapter\u001b[0m\u001b[1;33m.\u001b[0m\u001b[0msend\u001b[0m\u001b[1;33m(\u001b[0m\u001b[0mrequest\u001b[0m\u001b[1;33m,\u001b[0m \u001b[1;33m**\u001b[0m\u001b[0mkwargs\u001b[0m\u001b[1;33m)\u001b[0m\u001b[1;33m\u001b[0m\u001b[1;33m\u001b[0m\u001b[0m\n\u001b[0m\u001b[0;32m    644\u001b[0m \u001b[1;33m\u001b[0m\u001b[0m\n\u001b[0;32m    645\u001b[0m         \u001b[1;31m# Total elapsed time of the request (approximately)\u001b[0m\u001b[1;33m\u001b[0m\u001b[1;33m\u001b[0m\u001b[1;33m\u001b[0m\u001b[0m\n",
      "\u001b[1;32mc:\\users\\mau13\\appdata\\local\\programs\\python\\python38\\lib\\site-packages\\requests\\adapters.py\u001b[0m in \u001b[0;36msend\u001b[1;34m(self, request, stream, timeout, verify, cert, proxies)\u001b[0m\n\u001b[0;32m    437\u001b[0m         \u001b[1;32mtry\u001b[0m\u001b[1;33m:\u001b[0m\u001b[1;33m\u001b[0m\u001b[1;33m\u001b[0m\u001b[0m\n\u001b[0;32m    438\u001b[0m             \u001b[1;32mif\u001b[0m \u001b[1;32mnot\u001b[0m \u001b[0mchunked\u001b[0m\u001b[1;33m:\u001b[0m\u001b[1;33m\u001b[0m\u001b[1;33m\u001b[0m\u001b[0m\n\u001b[1;32m--> 439\u001b[1;33m                 resp = conn.urlopen(\n\u001b[0m\u001b[0;32m    440\u001b[0m                     \u001b[0mmethod\u001b[0m\u001b[1;33m=\u001b[0m\u001b[0mrequest\u001b[0m\u001b[1;33m.\u001b[0m\u001b[0mmethod\u001b[0m\u001b[1;33m,\u001b[0m\u001b[1;33m\u001b[0m\u001b[1;33m\u001b[0m\u001b[0m\n\u001b[0;32m    441\u001b[0m                     \u001b[0murl\u001b[0m\u001b[1;33m=\u001b[0m\u001b[0murl\u001b[0m\u001b[1;33m,\u001b[0m\u001b[1;33m\u001b[0m\u001b[1;33m\u001b[0m\u001b[0m\n",
      "\u001b[1;32mc:\\users\\mau13\\appdata\\local\\programs\\python\\python38\\lib\\site-packages\\urllib3\\connectionpool.py\u001b[0m in \u001b[0;36murlopen\u001b[1;34m(self, method, url, body, headers, retries, redirect, assert_same_host, timeout, pool_timeout, release_conn, chunked, body_pos, **response_kw)\u001b[0m\n\u001b[0;32m    668\u001b[0m \u001b[1;33m\u001b[0m\u001b[0m\n\u001b[0;32m    669\u001b[0m             \u001b[1;31m# Make the request on the httplib connection object.\u001b[0m\u001b[1;33m\u001b[0m\u001b[1;33m\u001b[0m\u001b[1;33m\u001b[0m\u001b[0m\n\u001b[1;32m--> 670\u001b[1;33m             httplib_response = self._make_request(\n\u001b[0m\u001b[0;32m    671\u001b[0m                 \u001b[0mconn\u001b[0m\u001b[1;33m,\u001b[0m\u001b[1;33m\u001b[0m\u001b[1;33m\u001b[0m\u001b[0m\n\u001b[0;32m    672\u001b[0m                 \u001b[0mmethod\u001b[0m\u001b[1;33m,\u001b[0m\u001b[1;33m\u001b[0m\u001b[1;33m\u001b[0m\u001b[0m\n",
      "\u001b[1;32mc:\\users\\mau13\\appdata\\local\\programs\\python\\python38\\lib\\site-packages\\urllib3\\connectionpool.py\u001b[0m in \u001b[0;36m_make_request\u001b[1;34m(self, conn, method, url, timeout, chunked, **httplib_request_kw)\u001b[0m\n\u001b[0;32m    424\u001b[0m                     \u001b[1;31m# Python 3 (including for exceptions like SystemExit).\u001b[0m\u001b[1;33m\u001b[0m\u001b[1;33m\u001b[0m\u001b[1;33m\u001b[0m\u001b[0m\n\u001b[0;32m    425\u001b[0m                     \u001b[1;31m# Otherwise it looks like a bug in the code.\u001b[0m\u001b[1;33m\u001b[0m\u001b[1;33m\u001b[0m\u001b[1;33m\u001b[0m\u001b[0m\n\u001b[1;32m--> 426\u001b[1;33m                     \u001b[0msix\u001b[0m\u001b[1;33m.\u001b[0m\u001b[0mraise_from\u001b[0m\u001b[1;33m(\u001b[0m\u001b[0me\u001b[0m\u001b[1;33m,\u001b[0m \u001b[1;32mNone\u001b[0m\u001b[1;33m)\u001b[0m\u001b[1;33m\u001b[0m\u001b[1;33m\u001b[0m\u001b[0m\n\u001b[0m\u001b[0;32m    427\u001b[0m         \u001b[1;32mexcept\u001b[0m \u001b[1;33m(\u001b[0m\u001b[0mSocketTimeout\u001b[0m\u001b[1;33m,\u001b[0m \u001b[0mBaseSSLError\u001b[0m\u001b[1;33m,\u001b[0m \u001b[0mSocketError\u001b[0m\u001b[1;33m)\u001b[0m \u001b[1;32mas\u001b[0m \u001b[0me\u001b[0m\u001b[1;33m:\u001b[0m\u001b[1;33m\u001b[0m\u001b[1;33m\u001b[0m\u001b[0m\n\u001b[0;32m    428\u001b[0m             \u001b[0mself\u001b[0m\u001b[1;33m.\u001b[0m\u001b[0m_raise_timeout\u001b[0m\u001b[1;33m(\u001b[0m\u001b[0merr\u001b[0m\u001b[1;33m=\u001b[0m\u001b[0me\u001b[0m\u001b[1;33m,\u001b[0m \u001b[0murl\u001b[0m\u001b[1;33m=\u001b[0m\u001b[0murl\u001b[0m\u001b[1;33m,\u001b[0m \u001b[0mtimeout_value\u001b[0m\u001b[1;33m=\u001b[0m\u001b[0mread_timeout\u001b[0m\u001b[1;33m)\u001b[0m\u001b[1;33m\u001b[0m\u001b[1;33m\u001b[0m\u001b[0m\n",
      "\u001b[1;32mc:\\users\\mau13\\appdata\\local\\programs\\python\\python38\\lib\\site-packages\\urllib3\\packages\\six.py\u001b[0m in \u001b[0;36mraise_from\u001b[1;34m(value, from_value)\u001b[0m\n",
      "\u001b[1;32mc:\\users\\mau13\\appdata\\local\\programs\\python\\python38\\lib\\site-packages\\urllib3\\connectionpool.py\u001b[0m in \u001b[0;36m_make_request\u001b[1;34m(self, conn, method, url, timeout, chunked, **httplib_request_kw)\u001b[0m\n\u001b[0;32m    419\u001b[0m                 \u001b[1;31m# Python 3\u001b[0m\u001b[1;33m\u001b[0m\u001b[1;33m\u001b[0m\u001b[1;33m\u001b[0m\u001b[0m\n\u001b[0;32m    420\u001b[0m                 \u001b[1;32mtry\u001b[0m\u001b[1;33m:\u001b[0m\u001b[1;33m\u001b[0m\u001b[1;33m\u001b[0m\u001b[0m\n\u001b[1;32m--> 421\u001b[1;33m                     \u001b[0mhttplib_response\u001b[0m \u001b[1;33m=\u001b[0m \u001b[0mconn\u001b[0m\u001b[1;33m.\u001b[0m\u001b[0mgetresponse\u001b[0m\u001b[1;33m(\u001b[0m\u001b[1;33m)\u001b[0m\u001b[1;33m\u001b[0m\u001b[1;33m\u001b[0m\u001b[0m\n\u001b[0m\u001b[0;32m    422\u001b[0m                 \u001b[1;32mexcept\u001b[0m \u001b[0mBaseException\u001b[0m \u001b[1;32mas\u001b[0m \u001b[0me\u001b[0m\u001b[1;33m:\u001b[0m\u001b[1;33m\u001b[0m\u001b[1;33m\u001b[0m\u001b[0m\n\u001b[0;32m    423\u001b[0m                     \u001b[1;31m# Remove the TypeError from the exception chain in\u001b[0m\u001b[1;33m\u001b[0m\u001b[1;33m\u001b[0m\u001b[1;33m\u001b[0m\u001b[0m\n",
      "\u001b[1;32mc:\\users\\mau13\\appdata\\local\\programs\\python\\python38\\lib\\http\\client.py\u001b[0m in \u001b[0;36mgetresponse\u001b[1;34m(self)\u001b[0m\n\u001b[0;32m   1345\u001b[0m         \u001b[1;32mtry\u001b[0m\u001b[1;33m:\u001b[0m\u001b[1;33m\u001b[0m\u001b[1;33m\u001b[0m\u001b[0m\n\u001b[0;32m   1346\u001b[0m             \u001b[1;32mtry\u001b[0m\u001b[1;33m:\u001b[0m\u001b[1;33m\u001b[0m\u001b[1;33m\u001b[0m\u001b[0m\n\u001b[1;32m-> 1347\u001b[1;33m                 \u001b[0mresponse\u001b[0m\u001b[1;33m.\u001b[0m\u001b[0mbegin\u001b[0m\u001b[1;33m(\u001b[0m\u001b[1;33m)\u001b[0m\u001b[1;33m\u001b[0m\u001b[1;33m\u001b[0m\u001b[0m\n\u001b[0m\u001b[0;32m   1348\u001b[0m             \u001b[1;32mexcept\u001b[0m \u001b[0mConnectionError\u001b[0m\u001b[1;33m:\u001b[0m\u001b[1;33m\u001b[0m\u001b[1;33m\u001b[0m\u001b[0m\n\u001b[0;32m   1349\u001b[0m                 \u001b[0mself\u001b[0m\u001b[1;33m.\u001b[0m\u001b[0mclose\u001b[0m\u001b[1;33m(\u001b[0m\u001b[1;33m)\u001b[0m\u001b[1;33m\u001b[0m\u001b[1;33m\u001b[0m\u001b[0m\n",
      "\u001b[1;32mc:\\users\\mau13\\appdata\\local\\programs\\python\\python38\\lib\\http\\client.py\u001b[0m in \u001b[0;36mbegin\u001b[1;34m(self)\u001b[0m\n\u001b[0;32m    305\u001b[0m         \u001b[1;31m# read until we get a non-100 response\u001b[0m\u001b[1;33m\u001b[0m\u001b[1;33m\u001b[0m\u001b[1;33m\u001b[0m\u001b[0m\n\u001b[0;32m    306\u001b[0m         \u001b[1;32mwhile\u001b[0m \u001b[1;32mTrue\u001b[0m\u001b[1;33m:\u001b[0m\u001b[1;33m\u001b[0m\u001b[1;33m\u001b[0m\u001b[0m\n\u001b[1;32m--> 307\u001b[1;33m             \u001b[0mversion\u001b[0m\u001b[1;33m,\u001b[0m \u001b[0mstatus\u001b[0m\u001b[1;33m,\u001b[0m \u001b[0mreason\u001b[0m \u001b[1;33m=\u001b[0m \u001b[0mself\u001b[0m\u001b[1;33m.\u001b[0m\u001b[0m_read_status\u001b[0m\u001b[1;33m(\u001b[0m\u001b[1;33m)\u001b[0m\u001b[1;33m\u001b[0m\u001b[1;33m\u001b[0m\u001b[0m\n\u001b[0m\u001b[0;32m    308\u001b[0m             \u001b[1;32mif\u001b[0m \u001b[0mstatus\u001b[0m \u001b[1;33m!=\u001b[0m \u001b[0mCONTINUE\u001b[0m\u001b[1;33m:\u001b[0m\u001b[1;33m\u001b[0m\u001b[1;33m\u001b[0m\u001b[0m\n\u001b[0;32m    309\u001b[0m                 \u001b[1;32mbreak\u001b[0m\u001b[1;33m\u001b[0m\u001b[1;33m\u001b[0m\u001b[0m\n",
      "\u001b[1;32mc:\\users\\mau13\\appdata\\local\\programs\\python\\python38\\lib\\http\\client.py\u001b[0m in \u001b[0;36m_read_status\u001b[1;34m(self)\u001b[0m\n\u001b[0;32m    266\u001b[0m \u001b[1;33m\u001b[0m\u001b[0m\n\u001b[0;32m    267\u001b[0m     \u001b[1;32mdef\u001b[0m \u001b[0m_read_status\u001b[0m\u001b[1;33m(\u001b[0m\u001b[0mself\u001b[0m\u001b[1;33m)\u001b[0m\u001b[1;33m:\u001b[0m\u001b[1;33m\u001b[0m\u001b[1;33m\u001b[0m\u001b[0m\n\u001b[1;32m--> 268\u001b[1;33m         \u001b[0mline\u001b[0m \u001b[1;33m=\u001b[0m \u001b[0mstr\u001b[0m\u001b[1;33m(\u001b[0m\u001b[0mself\u001b[0m\u001b[1;33m.\u001b[0m\u001b[0mfp\u001b[0m\u001b[1;33m.\u001b[0m\u001b[0mreadline\u001b[0m\u001b[1;33m(\u001b[0m\u001b[0m_MAXLINE\u001b[0m \u001b[1;33m+\u001b[0m \u001b[1;36m1\u001b[0m\u001b[1;33m)\u001b[0m\u001b[1;33m,\u001b[0m \u001b[1;34m\"iso-8859-1\"\u001b[0m\u001b[1;33m)\u001b[0m\u001b[1;33m\u001b[0m\u001b[1;33m\u001b[0m\u001b[0m\n\u001b[0m\u001b[0;32m    269\u001b[0m         \u001b[1;32mif\u001b[0m \u001b[0mlen\u001b[0m\u001b[1;33m(\u001b[0m\u001b[0mline\u001b[0m\u001b[1;33m)\u001b[0m \u001b[1;33m>\u001b[0m \u001b[0m_MAXLINE\u001b[0m\u001b[1;33m:\u001b[0m\u001b[1;33m\u001b[0m\u001b[1;33m\u001b[0m\u001b[0m\n\u001b[0;32m    270\u001b[0m             \u001b[1;32mraise\u001b[0m \u001b[0mLineTooLong\u001b[0m\u001b[1;33m(\u001b[0m\u001b[1;34m\"status line\"\u001b[0m\u001b[1;33m)\u001b[0m\u001b[1;33m\u001b[0m\u001b[1;33m\u001b[0m\u001b[0m\n",
      "\u001b[1;32mc:\\users\\mau13\\appdata\\local\\programs\\python\\python38\\lib\\socket.py\u001b[0m in \u001b[0;36mreadinto\u001b[1;34m(self, b)\u001b[0m\n\u001b[0;32m    667\u001b[0m         \u001b[1;32mwhile\u001b[0m \u001b[1;32mTrue\u001b[0m\u001b[1;33m:\u001b[0m\u001b[1;33m\u001b[0m\u001b[1;33m\u001b[0m\u001b[0m\n\u001b[0;32m    668\u001b[0m             \u001b[1;32mtry\u001b[0m\u001b[1;33m:\u001b[0m\u001b[1;33m\u001b[0m\u001b[1;33m\u001b[0m\u001b[0m\n\u001b[1;32m--> 669\u001b[1;33m                 \u001b[1;32mreturn\u001b[0m \u001b[0mself\u001b[0m\u001b[1;33m.\u001b[0m\u001b[0m_sock\u001b[0m\u001b[1;33m.\u001b[0m\u001b[0mrecv_into\u001b[0m\u001b[1;33m(\u001b[0m\u001b[0mb\u001b[0m\u001b[1;33m)\u001b[0m\u001b[1;33m\u001b[0m\u001b[1;33m\u001b[0m\u001b[0m\n\u001b[0m\u001b[0;32m    670\u001b[0m             \u001b[1;32mexcept\u001b[0m \u001b[0mtimeout\u001b[0m\u001b[1;33m:\u001b[0m\u001b[1;33m\u001b[0m\u001b[1;33m\u001b[0m\u001b[0m\n\u001b[0;32m    671\u001b[0m                 \u001b[0mself\u001b[0m\u001b[1;33m.\u001b[0m\u001b[0m_timeout_occurred\u001b[0m \u001b[1;33m=\u001b[0m \u001b[1;32mTrue\u001b[0m\u001b[1;33m\u001b[0m\u001b[1;33m\u001b[0m\u001b[0m\n",
      "\u001b[1;32mc:\\users\\mau13\\appdata\\local\\programs\\python\\python38\\lib\\ssl.py\u001b[0m in \u001b[0;36mrecv_into\u001b[1;34m(self, buffer, nbytes, flags)\u001b[0m\n\u001b[0;32m   1239\u001b[0m                   \u001b[1;34m\"non-zero flags not allowed in calls to recv_into() on %s\"\u001b[0m \u001b[1;33m%\u001b[0m\u001b[1;33m\u001b[0m\u001b[1;33m\u001b[0m\u001b[0m\n\u001b[0;32m   1240\u001b[0m                   self.__class__)\n\u001b[1;32m-> 1241\u001b[1;33m             \u001b[1;32mreturn\u001b[0m \u001b[0mself\u001b[0m\u001b[1;33m.\u001b[0m\u001b[0mread\u001b[0m\u001b[1;33m(\u001b[0m\u001b[0mnbytes\u001b[0m\u001b[1;33m,\u001b[0m \u001b[0mbuffer\u001b[0m\u001b[1;33m)\u001b[0m\u001b[1;33m\u001b[0m\u001b[1;33m\u001b[0m\u001b[0m\n\u001b[0m\u001b[0;32m   1242\u001b[0m         \u001b[1;32melse\u001b[0m\u001b[1;33m:\u001b[0m\u001b[1;33m\u001b[0m\u001b[1;33m\u001b[0m\u001b[0m\n\u001b[0;32m   1243\u001b[0m             \u001b[1;32mreturn\u001b[0m \u001b[0msuper\u001b[0m\u001b[1;33m(\u001b[0m\u001b[1;33m)\u001b[0m\u001b[1;33m.\u001b[0m\u001b[0mrecv_into\u001b[0m\u001b[1;33m(\u001b[0m\u001b[0mbuffer\u001b[0m\u001b[1;33m,\u001b[0m \u001b[0mnbytes\u001b[0m\u001b[1;33m,\u001b[0m \u001b[0mflags\u001b[0m\u001b[1;33m)\u001b[0m\u001b[1;33m\u001b[0m\u001b[1;33m\u001b[0m\u001b[0m\n",
      "\u001b[1;32mc:\\users\\mau13\\appdata\\local\\programs\\python\\python38\\lib\\ssl.py\u001b[0m in \u001b[0;36mread\u001b[1;34m(self, len, buffer)\u001b[0m\n\u001b[0;32m   1097\u001b[0m         \u001b[1;32mtry\u001b[0m\u001b[1;33m:\u001b[0m\u001b[1;33m\u001b[0m\u001b[1;33m\u001b[0m\u001b[0m\n\u001b[0;32m   1098\u001b[0m             \u001b[1;32mif\u001b[0m \u001b[0mbuffer\u001b[0m \u001b[1;32mis\u001b[0m \u001b[1;32mnot\u001b[0m \u001b[1;32mNone\u001b[0m\u001b[1;33m:\u001b[0m\u001b[1;33m\u001b[0m\u001b[1;33m\u001b[0m\u001b[0m\n\u001b[1;32m-> 1099\u001b[1;33m                 \u001b[1;32mreturn\u001b[0m \u001b[0mself\u001b[0m\u001b[1;33m.\u001b[0m\u001b[0m_sslobj\u001b[0m\u001b[1;33m.\u001b[0m\u001b[0mread\u001b[0m\u001b[1;33m(\u001b[0m\u001b[0mlen\u001b[0m\u001b[1;33m,\u001b[0m \u001b[0mbuffer\u001b[0m\u001b[1;33m)\u001b[0m\u001b[1;33m\u001b[0m\u001b[1;33m\u001b[0m\u001b[0m\n\u001b[0m\u001b[0;32m   1100\u001b[0m             \u001b[1;32melse\u001b[0m\u001b[1;33m:\u001b[0m\u001b[1;33m\u001b[0m\u001b[1;33m\u001b[0m\u001b[0m\n\u001b[0;32m   1101\u001b[0m                 \u001b[1;32mreturn\u001b[0m \u001b[0mself\u001b[0m\u001b[1;33m.\u001b[0m\u001b[0m_sslobj\u001b[0m\u001b[1;33m.\u001b[0m\u001b[0mread\u001b[0m\u001b[1;33m(\u001b[0m\u001b[0mlen\u001b[0m\u001b[1;33m)\u001b[0m\u001b[1;33m\u001b[0m\u001b[1;33m\u001b[0m\u001b[0m\n",
      "\u001b[1;31mKeyboardInterrupt\u001b[0m: "
     ]
    }
   ],
   "source": [
    "for i in works.query('quantum materials').select('DOI, title, URL'):\n",
    "    print(i)"
   ]
  },
  {
   "cell_type": "code",
   "execution_count": 24,
   "metadata": {},
   "outputs": [
    {
     "data": {
      "text/plain": [
       "1337910"
      ]
     },
     "execution_count": 24,
     "metadata": {},
     "output_type": "execute_result"
    }
   ],
   "source": [
    "#Filters can be used to further reduce results\n",
    "works.query('quantum materials').filter(has_license = 'true', has_full_text = 'true').select('DOI, title').count()"
   ]
  },
  {
   "cell_type": "markdown",
   "metadata": {},
   "source": [
    "# Etiquette\n",
    "To comply with Crossref's wishes of politeness, etiquette function is provided"
   ]
  },
  {
   "cell_type": "code",
   "execution_count": 28,
   "metadata": {},
   "outputs": [
    {
     "data": {
      "text/plain": [
       "'My Project Name/My Project version (My Project URL; mailto:My contact email) BasedOn: CrossrefAPI/1.5.0'"
      ]
     },
     "execution_count": 28,
     "metadata": {},
     "output_type": "execute_result"
    }
   ],
   "source": [
    "from crossref.restful import Etiquette\n",
    "\n",
    "my_etiquette = Etiquette('My Project Name', 'My Project version', 'My Project URL', 'My contact email')\n",
    "\n",
    "str(my_etiquette)"
   ]
  },
  {
   "cell_type": "code",
   "execution_count": 29,
   "metadata": {},
   "outputs": [
    {
     "name": "stdout",
     "output_type": "stream",
     "text": [
      "{'DOI': '10.1046/j.1464-410x.2000.00895.x'}\n",
      "{'DOI': '10.1002/nadc.20000480942'}\n",
      "{'DOI': '10.1108/sr-06-2017-0106'}\n",
      "{'DOI': '10.1016/j.ctim.2011.07.004'}\n",
      "{'DOI': '10.1787/888933274288'}\n"
     ]
    }
   ],
   "source": [
    "#apply etiquette to works function for benefits\n",
    "works = Works(etiquette=my_etiquette)\n",
    "\n",
    "for i in works.sample(5).select('DOI'):\n",
    "    print(i)"
   ]
  }
 ],
 "metadata": {
  "kernelspec": {
   "display_name": "Python 3",
   "language": "python",
   "name": "python3"
  },
  "language_info": {
   "codemirror_mode": {
    "name": "ipython",
    "version": 3
   },
   "file_extension": ".py",
   "mimetype": "text/x-python",
   "name": "python",
   "nbconvert_exporter": "python",
   "pygments_lexer": "ipython3",
   "version": "3.8.6rc1"
  }
 },
 "nbformat": 4,
 "nbformat_minor": 4
}
