{
 "cells": [
  {
   "cell_type": "code",
   "execution_count": 1,
   "metadata": {},
   "outputs": [],
   "source": [
    "import requests\n",
    "import json"
   ]
  },
  {
   "cell_type": "markdown",
   "metadata": {},
   "source": [
    "### Initialize values for search"
   ]
  },
  {
   "cell_type": "code",
   "execution_count": 2,
   "metadata": {},
   "outputs": [],
   "source": [
    "dois = []\n",
    "base_url = 'https://api.crossref.org/works?query='\n",
    "max_rows = 1000 #Defined by CrossRef API\n",
    "\n",
    "#Assign query values here (Using 'correlated electron' keywords for example)\n",
    "query = 'correlated+electron'\n",
    "\n",
    "#rows = the number of DOIs you want to collect\n",
    "rows = 5\n",
    "\n",
    "headers = {\n",
    "      'Accept': 'application/json',\n",
    "      'User-agent': 'mailto:mmunozvaltierra@gmail.com' \n",
    "    } "
   ]
  },
  {
   "cell_type": "markdown",
   "metadata": {},
   "source": [
    "### Search for DOIs"
   ]
  },
  {
   "cell_type": "code",
   "execution_count": 3,
   "metadata": {},
   "outputs": [
    {
     "name": "stdout",
     "output_type": "stream",
     "text": [
      "10.1016/b0-12-369401-9/00529-5\n",
      "10.1016/bs.arcc.2017.06.002\n",
      "10.1016/b978-0-12-803581-8.01114-0\n",
      "10.1016/b978-1-4832-2920-1.50070-6\n",
      "10.1016/s0368-2048(00)00165-1\n"
     ]
    }
   ],
   "source": [
    "#Search_url is the final url passed to crossref\n",
    "search_url = base_url + query + '&rows=' + str(rows) + '&filter=member:78' #member 78 is the code for Elsevier, using\n",
    "                                                                           #this filter will only return dois from Elsevier\n",
    "response = requests.get(search_url, headers=headers).json()\n",
    "\n",
    "for item in response[\"message\"][\"items\"]:\n",
    "    dois.append(item[\"DOI\"])\n",
    "\n",
    "for i in dois:\n",
    "    print(i)"
   ]
  }
 ],
 "metadata": {
  "kernelspec": {
   "display_name": "Python 3",
   "language": "python",
   "name": "python3"
  },
  "language_info": {
   "codemirror_mode": {
    "name": "ipython",
    "version": 3
   },
   "file_extension": ".py",
   "mimetype": "text/x-python",
   "name": "python",
   "nbconvert_exporter": "python",
   "pygments_lexer": "ipython3",
   "version": "3.8.6rc1"
  }
 },
 "nbformat": 4,
 "nbformat_minor": 4
}
